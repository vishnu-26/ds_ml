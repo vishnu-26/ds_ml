{
 "cells": [
  {
   "cell_type": "code",
   "execution_count": 1,
   "id": "cf4e7aee",
   "metadata": {},
   "outputs": [],
   "source": [
    "import numpy as np\n",
    "import pandas as pd\n",
    "# from numpy.random import randn"
   ]
  },
  {
   "cell_type": "code",
   "execution_count": 9,
   "id": "5ad2c561",
   "metadata": {},
   "outputs": [
    {
     "data": {
      "text/html": [
       "<div>\n",
       "<style scoped>\n",
       "    .dataframe tbody tr th:only-of-type {\n",
       "        vertical-align: middle;\n",
       "    }\n",
       "\n",
       "    .dataframe tbody tr th {\n",
       "        vertical-align: top;\n",
       "    }\n",
       "\n",
       "    .dataframe thead th {\n",
       "        text-align: right;\n",
       "    }\n",
       "</style>\n",
       "<table border=\"1\" class=\"dataframe\">\n",
       "  <thead>\n",
       "    <tr style=\"text-align: right;\">\n",
       "      <th></th>\n",
       "      <th>W</th>\n",
       "      <th>X</th>\n",
       "      <th>Y</th>\n",
       "      <th>Z</th>\n",
       "    </tr>\n",
       "  </thead>\n",
       "  <tbody>\n",
       "    <tr>\n",
       "      <th>A</th>\n",
       "      <td>1.771882</td>\n",
       "      <td>0.440918</td>\n",
       "      <td>-1.111166</td>\n",
       "      <td>0.576482</td>\n",
       "    </tr>\n",
       "    <tr>\n",
       "      <th>B</th>\n",
       "      <td>1.764938</td>\n",
       "      <td>-1.130363</td>\n",
       "      <td>1.695664</td>\n",
       "      <td>-0.041798</td>\n",
       "    </tr>\n",
       "    <tr>\n",
       "      <th>C</th>\n",
       "      <td>0.410408</td>\n",
       "      <td>0.874796</td>\n",
       "      <td>1.287939</td>\n",
       "      <td>2.273967</td>\n",
       "    </tr>\n",
       "    <tr>\n",
       "      <th>D</th>\n",
       "      <td>-0.521045</td>\n",
       "      <td>0.874867</td>\n",
       "      <td>-1.372189</td>\n",
       "      <td>-0.977774</td>\n",
       "    </tr>\n",
       "    <tr>\n",
       "      <th>E</th>\n",
       "      <td>0.919201</td>\n",
       "      <td>0.836114</td>\n",
       "      <td>1.447239</td>\n",
       "      <td>-0.823785</td>\n",
       "    </tr>\n",
       "  </tbody>\n",
       "</table>\n",
       "</div>"
      ],
      "text/plain": [
       "          W         X         Y         Z\n",
       "A  1.771882  0.440918 -1.111166  0.576482\n",
       "B  1.764938 -1.130363  1.695664 -0.041798\n",
       "C  0.410408  0.874796  1.287939  2.273967\n",
       "D -0.521045  0.874867 -1.372189 -0.977774\n",
       "E  0.919201  0.836114  1.447239 -0.823785"
      ]
     },
     "execution_count": 9,
     "metadata": {},
     "output_type": "execute_result"
    }
   ],
   "source": [
    "df= pd.DataFrame(np.random.randn(5,4),['A','B','C','D','E'],['W','X','Y','Z'])\n",
    "df"
   ]
  },
  {
   "cell_type": "code",
   "execution_count": 10,
   "id": "a9d39945",
   "metadata": {},
   "outputs": [
    {
     "data": {
      "text/plain": [
       "pandas.core.frame.DataFrame"
      ]
     },
     "execution_count": 10,
     "metadata": {},
     "output_type": "execute_result"
    }
   ],
   "source": [
    "type(df)"
   ]
  },
  {
   "cell_type": "code",
   "execution_count": 43,
   "id": "cf5e3d67",
   "metadata": {},
   "outputs": [
    {
     "data": {
      "text/plain": [
       "A    1.771882\n",
       "B    1.764938\n",
       "C    0.410408\n",
       "D   -0.521045\n",
       "E    0.919201\n",
       "Name: W, dtype: float64"
      ]
     },
     "execution_count": 43,
     "metadata": {},
     "output_type": "execute_result"
    }
   ],
   "source": [
    "df['W']"
   ]
  },
  {
   "cell_type": "code",
   "execution_count": 13,
   "id": "eaf2d0a6",
   "metadata": {},
   "outputs": [
    {
     "data": {
      "text/plain": [
       "pandas.core.series.Series"
      ]
     },
     "execution_count": 13,
     "metadata": {},
     "output_type": "execute_result"
    }
   ],
   "source": [
    "type(df['W'])"
   ]
  },
  {
   "cell_type": "code",
   "execution_count": 15,
   "id": "efcf422f",
   "metadata": {},
   "outputs": [
    {
     "data": {
      "text/html": [
       "<div>\n",
       "<style scoped>\n",
       "    .dataframe tbody tr th:only-of-type {\n",
       "        vertical-align: middle;\n",
       "    }\n",
       "\n",
       "    .dataframe tbody tr th {\n",
       "        vertical-align: top;\n",
       "    }\n",
       "\n",
       "    .dataframe thead th {\n",
       "        text-align: right;\n",
       "    }\n",
       "</style>\n",
       "<table border=\"1\" class=\"dataframe\">\n",
       "  <thead>\n",
       "    <tr style=\"text-align: right;\">\n",
       "      <th></th>\n",
       "      <th>W</th>\n",
       "      <th>X</th>\n",
       "    </tr>\n",
       "  </thead>\n",
       "  <tbody>\n",
       "    <tr>\n",
       "      <th>A</th>\n",
       "      <td>1.771882</td>\n",
       "      <td>0.440918</td>\n",
       "    </tr>\n",
       "    <tr>\n",
       "      <th>B</th>\n",
       "      <td>1.764938</td>\n",
       "      <td>-1.130363</td>\n",
       "    </tr>\n",
       "    <tr>\n",
       "      <th>C</th>\n",
       "      <td>0.410408</td>\n",
       "      <td>0.874796</td>\n",
       "    </tr>\n",
       "    <tr>\n",
       "      <th>D</th>\n",
       "      <td>-0.521045</td>\n",
       "      <td>0.874867</td>\n",
       "    </tr>\n",
       "    <tr>\n",
       "      <th>E</th>\n",
       "      <td>0.919201</td>\n",
       "      <td>0.836114</td>\n",
       "    </tr>\n",
       "  </tbody>\n",
       "</table>\n",
       "</div>"
      ],
      "text/plain": [
       "          W         X\n",
       "A  1.771882  0.440918\n",
       "B  1.764938 -1.130363\n",
       "C  0.410408  0.874796\n",
       "D -0.521045  0.874867\n",
       "E  0.919201  0.836114"
      ]
     },
     "execution_count": 15,
     "metadata": {},
     "output_type": "execute_result"
    }
   ],
   "source": [
    "df[['W','X']]"
   ]
  },
  {
   "cell_type": "code",
   "execution_count": 16,
   "id": "45aca808",
   "metadata": {},
   "outputs": [
    {
     "data": {
      "text/plain": [
       "pandas.core.frame.DataFrame"
      ]
     },
     "execution_count": 16,
     "metadata": {},
     "output_type": "execute_result"
    }
   ],
   "source": [
    "type(df[['W','X']])"
   ]
  },
  {
   "cell_type": "code",
   "execution_count": 21,
   "id": "4a0742b9",
   "metadata": {},
   "outputs": [
    {
     "data": {
      "text/html": [
       "<div>\n",
       "<style scoped>\n",
       "    .dataframe tbody tr th:only-of-type {\n",
       "        vertical-align: middle;\n",
       "    }\n",
       "\n",
       "    .dataframe tbody tr th {\n",
       "        vertical-align: top;\n",
       "    }\n",
       "\n",
       "    .dataframe thead th {\n",
       "        text-align: right;\n",
       "    }\n",
       "</style>\n",
       "<table border=\"1\" class=\"dataframe\">\n",
       "  <thead>\n",
       "    <tr style=\"text-align: right;\">\n",
       "      <th></th>\n",
       "      <th>W</th>\n",
       "      <th>X</th>\n",
       "      <th>Y</th>\n",
       "      <th>Z</th>\n",
       "      <th>new</th>\n",
       "    </tr>\n",
       "  </thead>\n",
       "  <tbody>\n",
       "    <tr>\n",
       "      <th>A</th>\n",
       "      <td>1.771882</td>\n",
       "      <td>0.440918</td>\n",
       "      <td>-1.111166</td>\n",
       "      <td>0.576482</td>\n",
       "      <td>0.660717</td>\n",
       "    </tr>\n",
       "    <tr>\n",
       "      <th>B</th>\n",
       "      <td>1.764938</td>\n",
       "      <td>-1.130363</td>\n",
       "      <td>1.695664</td>\n",
       "      <td>-0.041798</td>\n",
       "      <td>3.460603</td>\n",
       "    </tr>\n",
       "    <tr>\n",
       "      <th>C</th>\n",
       "      <td>0.410408</td>\n",
       "      <td>0.874796</td>\n",
       "      <td>1.287939</td>\n",
       "      <td>2.273967</td>\n",
       "      <td>1.698347</td>\n",
       "    </tr>\n",
       "    <tr>\n",
       "      <th>D</th>\n",
       "      <td>-0.521045</td>\n",
       "      <td>0.874867</td>\n",
       "      <td>-1.372189</td>\n",
       "      <td>-0.977774</td>\n",
       "      <td>-1.893234</td>\n",
       "    </tr>\n",
       "    <tr>\n",
       "      <th>E</th>\n",
       "      <td>0.919201</td>\n",
       "      <td>0.836114</td>\n",
       "      <td>1.447239</td>\n",
       "      <td>-0.823785</td>\n",
       "      <td>2.366441</td>\n",
       "    </tr>\n",
       "  </tbody>\n",
       "</table>\n",
       "</div>"
      ],
      "text/plain": [
       "          W         X         Y         Z       new\n",
       "A  1.771882  0.440918 -1.111166  0.576482  0.660717\n",
       "B  1.764938 -1.130363  1.695664 -0.041798  3.460603\n",
       "C  0.410408  0.874796  1.287939  2.273967  1.698347\n",
       "D -0.521045  0.874867 -1.372189 -0.977774 -1.893234\n",
       "E  0.919201  0.836114  1.447239 -0.823785  2.366441"
      ]
     },
     "execution_count": 21,
     "metadata": {},
     "output_type": "execute_result"
    }
   ],
   "source": [
    "df['new']= df['W']+ df['Y']\n",
    "df"
   ]
  },
  {
   "cell_type": "code",
   "execution_count": 25,
   "id": "a2a4967a",
   "metadata": {},
   "outputs": [
    {
     "data": {
      "text/html": [
       "<div>\n",
       "<style scoped>\n",
       "    .dataframe tbody tr th:only-of-type {\n",
       "        vertical-align: middle;\n",
       "    }\n",
       "\n",
       "    .dataframe tbody tr th {\n",
       "        vertical-align: top;\n",
       "    }\n",
       "\n",
       "    .dataframe thead th {\n",
       "        text-align: right;\n",
       "    }\n",
       "</style>\n",
       "<table border=\"1\" class=\"dataframe\">\n",
       "  <thead>\n",
       "    <tr style=\"text-align: right;\">\n",
       "      <th></th>\n",
       "      <th>W</th>\n",
       "      <th>X</th>\n",
       "      <th>Y</th>\n",
       "      <th>Z</th>\n",
       "    </tr>\n",
       "  </thead>\n",
       "  <tbody>\n",
       "    <tr>\n",
       "      <th>A</th>\n",
       "      <td>1.771882</td>\n",
       "      <td>0.440918</td>\n",
       "      <td>-1.111166</td>\n",
       "      <td>0.576482</td>\n",
       "    </tr>\n",
       "    <tr>\n",
       "      <th>B</th>\n",
       "      <td>1.764938</td>\n",
       "      <td>-1.130363</td>\n",
       "      <td>1.695664</td>\n",
       "      <td>-0.041798</td>\n",
       "    </tr>\n",
       "    <tr>\n",
       "      <th>C</th>\n",
       "      <td>0.410408</td>\n",
       "      <td>0.874796</td>\n",
       "      <td>1.287939</td>\n",
       "      <td>2.273967</td>\n",
       "    </tr>\n",
       "    <tr>\n",
       "      <th>D</th>\n",
       "      <td>-0.521045</td>\n",
       "      <td>0.874867</td>\n",
       "      <td>-1.372189</td>\n",
       "      <td>-0.977774</td>\n",
       "    </tr>\n",
       "    <tr>\n",
       "      <th>E</th>\n",
       "      <td>0.919201</td>\n",
       "      <td>0.836114</td>\n",
       "      <td>1.447239</td>\n",
       "      <td>-0.823785</td>\n",
       "    </tr>\n",
       "  </tbody>\n",
       "</table>\n",
       "</div>"
      ],
      "text/plain": [
       "          W         X         Y         Z\n",
       "A  1.771882  0.440918 -1.111166  0.576482\n",
       "B  1.764938 -1.130363  1.695664 -0.041798\n",
       "C  0.410408  0.874796  1.287939  2.273967\n",
       "D -0.521045  0.874867 -1.372189 -0.977774\n",
       "E  0.919201  0.836114  1.447239 -0.823785"
      ]
     },
     "execution_count": 25,
     "metadata": {},
     "output_type": "execute_result"
    }
   ],
   "source": [
    "df.drop('new',axis=1)      #It doesn't effect df"
   ]
  },
  {
   "cell_type": "code",
   "execution_count": 26,
   "id": "1de05c08",
   "metadata": {},
   "outputs": [
    {
     "data": {
      "text/html": [
       "<div>\n",
       "<style scoped>\n",
       "    .dataframe tbody tr th:only-of-type {\n",
       "        vertical-align: middle;\n",
       "    }\n",
       "\n",
       "    .dataframe tbody tr th {\n",
       "        vertical-align: top;\n",
       "    }\n",
       "\n",
       "    .dataframe thead th {\n",
       "        text-align: right;\n",
       "    }\n",
       "</style>\n",
       "<table border=\"1\" class=\"dataframe\">\n",
       "  <thead>\n",
       "    <tr style=\"text-align: right;\">\n",
       "      <th></th>\n",
       "      <th>W</th>\n",
       "      <th>X</th>\n",
       "      <th>Y</th>\n",
       "      <th>Z</th>\n",
       "      <th>new</th>\n",
       "    </tr>\n",
       "  </thead>\n",
       "  <tbody>\n",
       "    <tr>\n",
       "      <th>A</th>\n",
       "      <td>1.771882</td>\n",
       "      <td>0.440918</td>\n",
       "      <td>-1.111166</td>\n",
       "      <td>0.576482</td>\n",
       "      <td>0.660717</td>\n",
       "    </tr>\n",
       "    <tr>\n",
       "      <th>B</th>\n",
       "      <td>1.764938</td>\n",
       "      <td>-1.130363</td>\n",
       "      <td>1.695664</td>\n",
       "      <td>-0.041798</td>\n",
       "      <td>3.460603</td>\n",
       "    </tr>\n",
       "    <tr>\n",
       "      <th>C</th>\n",
       "      <td>0.410408</td>\n",
       "      <td>0.874796</td>\n",
       "      <td>1.287939</td>\n",
       "      <td>2.273967</td>\n",
       "      <td>1.698347</td>\n",
       "    </tr>\n",
       "    <tr>\n",
       "      <th>D</th>\n",
       "      <td>-0.521045</td>\n",
       "      <td>0.874867</td>\n",
       "      <td>-1.372189</td>\n",
       "      <td>-0.977774</td>\n",
       "      <td>-1.893234</td>\n",
       "    </tr>\n",
       "    <tr>\n",
       "      <th>E</th>\n",
       "      <td>0.919201</td>\n",
       "      <td>0.836114</td>\n",
       "      <td>1.447239</td>\n",
       "      <td>-0.823785</td>\n",
       "      <td>2.366441</td>\n",
       "    </tr>\n",
       "  </tbody>\n",
       "</table>\n",
       "</div>"
      ],
      "text/plain": [
       "          W         X         Y         Z       new\n",
       "A  1.771882  0.440918 -1.111166  0.576482  0.660717\n",
       "B  1.764938 -1.130363  1.695664 -0.041798  3.460603\n",
       "C  0.410408  0.874796  1.287939  2.273967  1.698347\n",
       "D -0.521045  0.874867 -1.372189 -0.977774 -1.893234\n",
       "E  0.919201  0.836114  1.447239 -0.823785  2.366441"
      ]
     },
     "execution_count": 26,
     "metadata": {},
     "output_type": "execute_result"
    }
   ],
   "source": [
    "df"
   ]
  },
  {
   "cell_type": "code",
   "execution_count": 27,
   "id": "2633ca62",
   "metadata": {},
   "outputs": [
    {
     "data": {
      "text/html": [
       "<div>\n",
       "<style scoped>\n",
       "    .dataframe tbody tr th:only-of-type {\n",
       "        vertical-align: middle;\n",
       "    }\n",
       "\n",
       "    .dataframe tbody tr th {\n",
       "        vertical-align: top;\n",
       "    }\n",
       "\n",
       "    .dataframe thead th {\n",
       "        text-align: right;\n",
       "    }\n",
       "</style>\n",
       "<table border=\"1\" class=\"dataframe\">\n",
       "  <thead>\n",
       "    <tr style=\"text-align: right;\">\n",
       "      <th></th>\n",
       "      <th>W</th>\n",
       "      <th>X</th>\n",
       "      <th>Y</th>\n",
       "      <th>Z</th>\n",
       "      <th>new</th>\n",
       "    </tr>\n",
       "  </thead>\n",
       "  <tbody>\n",
       "    <tr>\n",
       "      <th>B</th>\n",
       "      <td>1.764938</td>\n",
       "      <td>-1.130363</td>\n",
       "      <td>1.695664</td>\n",
       "      <td>-0.041798</td>\n",
       "      <td>3.460603</td>\n",
       "    </tr>\n",
       "    <tr>\n",
       "      <th>C</th>\n",
       "      <td>0.410408</td>\n",
       "      <td>0.874796</td>\n",
       "      <td>1.287939</td>\n",
       "      <td>2.273967</td>\n",
       "      <td>1.698347</td>\n",
       "    </tr>\n",
       "    <tr>\n",
       "      <th>D</th>\n",
       "      <td>-0.521045</td>\n",
       "      <td>0.874867</td>\n",
       "      <td>-1.372189</td>\n",
       "      <td>-0.977774</td>\n",
       "      <td>-1.893234</td>\n",
       "    </tr>\n",
       "    <tr>\n",
       "      <th>E</th>\n",
       "      <td>0.919201</td>\n",
       "      <td>0.836114</td>\n",
       "      <td>1.447239</td>\n",
       "      <td>-0.823785</td>\n",
       "      <td>2.366441</td>\n",
       "    </tr>\n",
       "  </tbody>\n",
       "</table>\n",
       "</div>"
      ],
      "text/plain": [
       "          W         X         Y         Z       new\n",
       "B  1.764938 -1.130363  1.695664 -0.041798  3.460603\n",
       "C  0.410408  0.874796  1.287939  2.273967  1.698347\n",
       "D -0.521045  0.874867 -1.372189 -0.977774 -1.893234\n",
       "E  0.919201  0.836114  1.447239 -0.823785  2.366441"
      ]
     },
     "execution_count": 27,
     "metadata": {},
     "output_type": "execute_result"
    }
   ],
   "source": [
    "df.drop('A')        #by deafult axis=0 for index(row)"
   ]
  },
  {
   "cell_type": "code",
   "execution_count": 28,
   "id": "6953c3da",
   "metadata": {},
   "outputs": [
    {
     "data": {
      "text/html": [
       "<div>\n",
       "<style scoped>\n",
       "    .dataframe tbody tr th:only-of-type {\n",
       "        vertical-align: middle;\n",
       "    }\n",
       "\n",
       "    .dataframe tbody tr th {\n",
       "        vertical-align: top;\n",
       "    }\n",
       "\n",
       "    .dataframe thead th {\n",
       "        text-align: right;\n",
       "    }\n",
       "</style>\n",
       "<table border=\"1\" class=\"dataframe\">\n",
       "  <thead>\n",
       "    <tr style=\"text-align: right;\">\n",
       "      <th></th>\n",
       "      <th>W</th>\n",
       "      <th>X</th>\n",
       "      <th>Y</th>\n",
       "      <th>Z</th>\n",
       "      <th>new</th>\n",
       "    </tr>\n",
       "  </thead>\n",
       "  <tbody>\n",
       "    <tr>\n",
       "      <th>A</th>\n",
       "      <td>1.771882</td>\n",
       "      <td>0.440918</td>\n",
       "      <td>-1.111166</td>\n",
       "      <td>0.576482</td>\n",
       "      <td>0.660717</td>\n",
       "    </tr>\n",
       "    <tr>\n",
       "      <th>B</th>\n",
       "      <td>1.764938</td>\n",
       "      <td>-1.130363</td>\n",
       "      <td>1.695664</td>\n",
       "      <td>-0.041798</td>\n",
       "      <td>3.460603</td>\n",
       "    </tr>\n",
       "    <tr>\n",
       "      <th>C</th>\n",
       "      <td>0.410408</td>\n",
       "      <td>0.874796</td>\n",
       "      <td>1.287939</td>\n",
       "      <td>2.273967</td>\n",
       "      <td>1.698347</td>\n",
       "    </tr>\n",
       "    <tr>\n",
       "      <th>D</th>\n",
       "      <td>-0.521045</td>\n",
       "      <td>0.874867</td>\n",
       "      <td>-1.372189</td>\n",
       "      <td>-0.977774</td>\n",
       "      <td>-1.893234</td>\n",
       "    </tr>\n",
       "    <tr>\n",
       "      <th>E</th>\n",
       "      <td>0.919201</td>\n",
       "      <td>0.836114</td>\n",
       "      <td>1.447239</td>\n",
       "      <td>-0.823785</td>\n",
       "      <td>2.366441</td>\n",
       "    </tr>\n",
       "  </tbody>\n",
       "</table>\n",
       "</div>"
      ],
      "text/plain": [
       "          W         X         Y         Z       new\n",
       "A  1.771882  0.440918 -1.111166  0.576482  0.660717\n",
       "B  1.764938 -1.130363  1.695664 -0.041798  3.460603\n",
       "C  0.410408  0.874796  1.287939  2.273967  1.698347\n",
       "D -0.521045  0.874867 -1.372189 -0.977774 -1.893234\n",
       "E  0.919201  0.836114  1.447239 -0.823785  2.366441"
      ]
     },
     "execution_count": 28,
     "metadata": {},
     "output_type": "execute_result"
    }
   ],
   "source": [
    "df"
   ]
  },
  {
   "cell_type": "code",
   "execution_count": 30,
   "id": "39de302e",
   "metadata": {},
   "outputs": [
    {
     "data": {
      "text/html": [
       "<div>\n",
       "<style scoped>\n",
       "    .dataframe tbody tr th:only-of-type {\n",
       "        vertical-align: middle;\n",
       "    }\n",
       "\n",
       "    .dataframe tbody tr th {\n",
       "        vertical-align: top;\n",
       "    }\n",
       "\n",
       "    .dataframe thead th {\n",
       "        text-align: right;\n",
       "    }\n",
       "</style>\n",
       "<table border=\"1\" class=\"dataframe\">\n",
       "  <thead>\n",
       "    <tr style=\"text-align: right;\">\n",
       "      <th></th>\n",
       "      <th>W</th>\n",
       "      <th>X</th>\n",
       "      <th>Y</th>\n",
       "      <th>Z</th>\n",
       "    </tr>\n",
       "  </thead>\n",
       "  <tbody>\n",
       "    <tr>\n",
       "      <th>A</th>\n",
       "      <td>1.771882</td>\n",
       "      <td>0.440918</td>\n",
       "      <td>-1.111166</td>\n",
       "      <td>0.576482</td>\n",
       "    </tr>\n",
       "    <tr>\n",
       "      <th>B</th>\n",
       "      <td>1.764938</td>\n",
       "      <td>-1.130363</td>\n",
       "      <td>1.695664</td>\n",
       "      <td>-0.041798</td>\n",
       "    </tr>\n",
       "    <tr>\n",
       "      <th>C</th>\n",
       "      <td>0.410408</td>\n",
       "      <td>0.874796</td>\n",
       "      <td>1.287939</td>\n",
       "      <td>2.273967</td>\n",
       "    </tr>\n",
       "    <tr>\n",
       "      <th>D</th>\n",
       "      <td>-0.521045</td>\n",
       "      <td>0.874867</td>\n",
       "      <td>-1.372189</td>\n",
       "      <td>-0.977774</td>\n",
       "    </tr>\n",
       "    <tr>\n",
       "      <th>E</th>\n",
       "      <td>0.919201</td>\n",
       "      <td>0.836114</td>\n",
       "      <td>1.447239</td>\n",
       "      <td>-0.823785</td>\n",
       "    </tr>\n",
       "  </tbody>\n",
       "</table>\n",
       "</div>"
      ],
      "text/plain": [
       "          W         X         Y         Z\n",
       "A  1.771882  0.440918 -1.111166  0.576482\n",
       "B  1.764938 -1.130363  1.695664 -0.041798\n",
       "C  0.410408  0.874796  1.287939  2.273967\n",
       "D -0.521045  0.874867 -1.372189 -0.977774\n",
       "E  0.919201  0.836114  1.447239 -0.823785"
      ]
     },
     "execution_count": 30,
     "metadata": {},
     "output_type": "execute_result"
    }
   ],
   "source": [
    "df.drop('new',axis=1,inplace=True)     #it effects the df \n",
    "df"
   ]
  },
  {
   "cell_type": "code",
   "execution_count": 32,
   "id": "be50ea1d",
   "metadata": {},
   "outputs": [
    {
     "data": {
      "text/plain": [
       "W    1.771882\n",
       "X    0.440918\n",
       "Y   -1.111166\n",
       "Z    0.576482\n",
       "Name: A, dtype: float64"
      ]
     },
     "execution_count": 32,
     "metadata": {},
     "output_type": "execute_result"
    }
   ],
   "source": [
    "df.loc['A']        ## accessing rows"
   ]
  },
  {
   "cell_type": "code",
   "execution_count": 34,
   "id": "303e44df",
   "metadata": {},
   "outputs": [
    {
     "data": {
      "text/plain": [
       "W    1.771882\n",
       "X    0.440918\n",
       "Y   -1.111166\n",
       "Z    0.576482\n",
       "Name: A, dtype: float64"
      ]
     },
     "execution_count": 34,
     "metadata": {},
     "output_type": "execute_result"
    }
   ],
   "source": [
    "df.iloc[0]        ##accessing row by numerical index"
   ]
  },
  {
   "cell_type": "code",
   "execution_count": 35,
   "id": "c3c9673d",
   "metadata": {},
   "outputs": [
    {
     "data": {
      "text/html": [
       "<div>\n",
       "<style scoped>\n",
       "    .dataframe tbody tr th:only-of-type {\n",
       "        vertical-align: middle;\n",
       "    }\n",
       "\n",
       "    .dataframe tbody tr th {\n",
       "        vertical-align: top;\n",
       "    }\n",
       "\n",
       "    .dataframe thead th {\n",
       "        text-align: right;\n",
       "    }\n",
       "</style>\n",
       "<table border=\"1\" class=\"dataframe\">\n",
       "  <thead>\n",
       "    <tr style=\"text-align: right;\">\n",
       "      <th></th>\n",
       "      <th>W</th>\n",
       "      <th>X</th>\n",
       "      <th>Y</th>\n",
       "      <th>Z</th>\n",
       "    </tr>\n",
       "  </thead>\n",
       "  <tbody>\n",
       "    <tr>\n",
       "      <th>A</th>\n",
       "      <td>1.771882</td>\n",
       "      <td>0.440918</td>\n",
       "      <td>-1.111166</td>\n",
       "      <td>0.576482</td>\n",
       "    </tr>\n",
       "    <tr>\n",
       "      <th>B</th>\n",
       "      <td>1.764938</td>\n",
       "      <td>-1.130363</td>\n",
       "      <td>1.695664</td>\n",
       "      <td>-0.041798</td>\n",
       "    </tr>\n",
       "  </tbody>\n",
       "</table>\n",
       "</div>"
      ],
      "text/plain": [
       "          W         X         Y         Z\n",
       "A  1.771882  0.440918 -1.111166  0.576482\n",
       "B  1.764938 -1.130363  1.695664 -0.041798"
      ]
     },
     "execution_count": 35,
     "metadata": {},
     "output_type": "execute_result"
    }
   ],
   "source": [
    "df.loc[['A','B']]"
   ]
  },
  {
   "cell_type": "code",
   "execution_count": 37,
   "id": "8842dff8",
   "metadata": {},
   "outputs": [
    {
     "data": {
      "text/html": [
       "<div>\n",
       "<style scoped>\n",
       "    .dataframe tbody tr th:only-of-type {\n",
       "        vertical-align: middle;\n",
       "    }\n",
       "\n",
       "    .dataframe tbody tr th {\n",
       "        vertical-align: top;\n",
       "    }\n",
       "\n",
       "    .dataframe thead th {\n",
       "        text-align: right;\n",
       "    }\n",
       "</style>\n",
       "<table border=\"1\" class=\"dataframe\">\n",
       "  <thead>\n",
       "    <tr style=\"text-align: right;\">\n",
       "      <th></th>\n",
       "      <th>W</th>\n",
       "      <th>X</th>\n",
       "      <th>Y</th>\n",
       "      <th>Z</th>\n",
       "    </tr>\n",
       "  </thead>\n",
       "  <tbody>\n",
       "    <tr>\n",
       "      <th>A</th>\n",
       "      <td>1.771882</td>\n",
       "      <td>0.440918</td>\n",
       "      <td>-1.111166</td>\n",
       "      <td>0.576482</td>\n",
       "    </tr>\n",
       "    <tr>\n",
       "      <th>B</th>\n",
       "      <td>1.764938</td>\n",
       "      <td>-1.130363</td>\n",
       "      <td>1.695664</td>\n",
       "      <td>-0.041798</td>\n",
       "    </tr>\n",
       "  </tbody>\n",
       "</table>\n",
       "</div>"
      ],
      "text/plain": [
       "          W         X         Y         Z\n",
       "A  1.771882  0.440918 -1.111166  0.576482\n",
       "B  1.764938 -1.130363  1.695664 -0.041798"
      ]
     },
     "execution_count": 37,
     "metadata": {},
     "output_type": "execute_result"
    }
   ],
   "source": [
    "df.iloc[[0,1]]"
   ]
  },
  {
   "cell_type": "code",
   "execution_count": 39,
   "id": "8efc0b2d",
   "metadata": {},
   "outputs": [
    {
     "data": {
      "text/plain": [
       "0.5764820339403253"
      ]
     },
     "execution_count": 39,
     "metadata": {},
     "output_type": "execute_result"
    }
   ],
   "source": [
    "df.loc['A','Z']"
   ]
  },
  {
   "cell_type": "code",
   "execution_count": null,
   "id": "7ec33ee0",
   "metadata": {},
   "outputs": [],
   "source": []
  }
 ],
 "metadata": {
  "kernelspec": {
   "display_name": "Python 3 (ipykernel)",
   "language": "python",
   "name": "python3"
  },
  "language_info": {
   "codemirror_mode": {
    "name": "ipython",
    "version": 3
   },
   "file_extension": ".py",
   "mimetype": "text/x-python",
   "name": "python",
   "nbconvert_exporter": "python",
   "pygments_lexer": "ipython3",
   "version": "3.8.10"
  }
 },
 "nbformat": 4,
 "nbformat_minor": 5
}
