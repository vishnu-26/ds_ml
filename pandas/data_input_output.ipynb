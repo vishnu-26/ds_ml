{
 "cells": [
  {
   "cell_type": "code",
   "execution_count": 3,
   "id": "0f4589bf",
   "metadata": {},
   "outputs": [],
   "source": [
    "import pandas as pd"
   ]
  },
  {
   "cell_type": "code",
   "execution_count": 4,
   "id": "d2c32388",
   "metadata": {},
   "outputs": [
    {
     "data": {
      "text/html": [
       "<div>\n",
       "<style scoped>\n",
       "    .dataframe tbody tr th:only-of-type {\n",
       "        vertical-align: middle;\n",
       "    }\n",
       "\n",
       "    .dataframe tbody tr th {\n",
       "        vertical-align: top;\n",
       "    }\n",
       "\n",
       "    .dataframe thead th {\n",
       "        text-align: right;\n",
       "    }\n",
       "</style>\n",
       "<table border=\"1\" class=\"dataframe\">\n",
       "  <thead>\n",
       "    <tr style=\"text-align: right;\">\n",
       "      <th></th>\n",
       "      <th>a</th>\n",
       "      <th>b</th>\n",
       "      <th>c</th>\n",
       "    </tr>\n",
       "  </thead>\n",
       "  <tbody>\n",
       "    <tr>\n",
       "      <th>0</th>\n",
       "      <td>1</td>\n",
       "      <td>5</td>\n",
       "      <td>w</td>\n",
       "    </tr>\n",
       "    <tr>\n",
       "      <th>1</th>\n",
       "      <td>2</td>\n",
       "      <td>6</td>\n",
       "      <td>x</td>\n",
       "    </tr>\n",
       "    <tr>\n",
       "      <th>2</th>\n",
       "      <td>3</td>\n",
       "      <td>7</td>\n",
       "      <td>y</td>\n",
       "    </tr>\n",
       "    <tr>\n",
       "      <th>3</th>\n",
       "      <td>4</td>\n",
       "      <td>5</td>\n",
       "      <td>z</td>\n",
       "    </tr>\n",
       "  </tbody>\n",
       "</table>\n",
       "</div>"
      ],
      "text/plain": [
       "   a  b  c\n",
       "0  1  5  w\n",
       "1  2  6  x\n",
       "2  3  7  y\n",
       "3  4  5  z"
      ]
     },
     "execution_count": 4,
     "metadata": {},
     "output_type": "execute_result"
    }
   ],
   "source": [
    "df = pd.DataFrame({\n",
    "                'a':[1,2,3,4],\n",
    "                'b':[5,6,7,5],\n",
    "                'c':['w','x','y','z']\n",
    "                })\n",
    "df"
   ]
  },
  {
   "cell_type": "markdown",
   "id": "14f63c72",
   "metadata": {},
   "source": [
    "## Csv File"
   ]
  },
  {
   "cell_type": "code",
   "execution_count": 14,
   "id": "1f8ac198",
   "metadata": {},
   "outputs": [],
   "source": [
    "df.to_csv('~/Documents/sample.csv',index=False)            ##writing to csv file"
   ]
  },
  {
   "cell_type": "code",
   "execution_count": 15,
   "id": "c34e7a5a",
   "metadata": {},
   "outputs": [
    {
     "data": {
      "text/html": [
       "<div>\n",
       "<style scoped>\n",
       "    .dataframe tbody tr th:only-of-type {\n",
       "        vertical-align: middle;\n",
       "    }\n",
       "\n",
       "    .dataframe tbody tr th {\n",
       "        vertical-align: top;\n",
       "    }\n",
       "\n",
       "    .dataframe thead th {\n",
       "        text-align: right;\n",
       "    }\n",
       "</style>\n",
       "<table border=\"1\" class=\"dataframe\">\n",
       "  <thead>\n",
       "    <tr style=\"text-align: right;\">\n",
       "      <th></th>\n",
       "      <th>a</th>\n",
       "      <th>b</th>\n",
       "      <th>c</th>\n",
       "    </tr>\n",
       "  </thead>\n",
       "  <tbody>\n",
       "    <tr>\n",
       "      <th>0</th>\n",
       "      <td>1</td>\n",
       "      <td>5</td>\n",
       "      <td>w</td>\n",
       "    </tr>\n",
       "    <tr>\n",
       "      <th>1</th>\n",
       "      <td>2</td>\n",
       "      <td>6</td>\n",
       "      <td>x</td>\n",
       "    </tr>\n",
       "    <tr>\n",
       "      <th>2</th>\n",
       "      <td>3</td>\n",
       "      <td>7</td>\n",
       "      <td>y</td>\n",
       "    </tr>\n",
       "    <tr>\n",
       "      <th>3</th>\n",
       "      <td>4</td>\n",
       "      <td>5</td>\n",
       "      <td>z</td>\n",
       "    </tr>\n",
       "  </tbody>\n",
       "</table>\n",
       "</div>"
      ],
      "text/plain": [
       "   a  b  c\n",
       "0  1  5  w\n",
       "1  2  6  x\n",
       "2  3  7  y\n",
       "3  4  5  z"
      ]
     },
     "execution_count": 15,
     "metadata": {},
     "output_type": "execute_result"
    }
   ],
   "source": [
    "pd.read_csv('~/Documents/sample.csv')                  ##reading csv file"
   ]
  },
  {
   "cell_type": "markdown",
   "id": "3efacfed",
   "metadata": {},
   "source": [
    "## Excel File"
   ]
  },
  {
   "cell_type": "code",
   "execution_count": 7,
   "id": "27675113",
   "metadata": {},
   "outputs": [],
   "source": [
    "df.to_excel('~/Documents/sample.xlsx',sheet_name='new sheet',index=False)"
   ]
  },
  {
   "cell_type": "code",
   "execution_count": 8,
   "id": "429a437e",
   "metadata": {},
   "outputs": [
    {
     "data": {
      "text/html": [
       "<div>\n",
       "<style scoped>\n",
       "    .dataframe tbody tr th:only-of-type {\n",
       "        vertical-align: middle;\n",
       "    }\n",
       "\n",
       "    .dataframe tbody tr th {\n",
       "        vertical-align: top;\n",
       "    }\n",
       "\n",
       "    .dataframe thead th {\n",
       "        text-align: right;\n",
       "    }\n",
       "</style>\n",
       "<table border=\"1\" class=\"dataframe\">\n",
       "  <thead>\n",
       "    <tr style=\"text-align: right;\">\n",
       "      <th></th>\n",
       "      <th>a</th>\n",
       "      <th>b</th>\n",
       "      <th>c</th>\n",
       "    </tr>\n",
       "  </thead>\n",
       "  <tbody>\n",
       "    <tr>\n",
       "      <th>0</th>\n",
       "      <td>1</td>\n",
       "      <td>5</td>\n",
       "      <td>w</td>\n",
       "    </tr>\n",
       "    <tr>\n",
       "      <th>1</th>\n",
       "      <td>2</td>\n",
       "      <td>6</td>\n",
       "      <td>x</td>\n",
       "    </tr>\n",
       "    <tr>\n",
       "      <th>2</th>\n",
       "      <td>3</td>\n",
       "      <td>7</td>\n",
       "      <td>y</td>\n",
       "    </tr>\n",
       "    <tr>\n",
       "      <th>3</th>\n",
       "      <td>4</td>\n",
       "      <td>5</td>\n",
       "      <td>z</td>\n",
       "    </tr>\n",
       "  </tbody>\n",
       "</table>\n",
       "</div>"
      ],
      "text/plain": [
       "   a  b  c\n",
       "0  1  5  w\n",
       "1  2  6  x\n",
       "2  3  7  y\n",
       "3  4  5  z"
      ]
     },
     "execution_count": 8,
     "metadata": {},
     "output_type": "execute_result"
    }
   ],
   "source": [
    "pd.read_excel('~/Documents/sample.xlsx')"
   ]
  },
  {
   "cell_type": "markdown",
   "id": "e420eb8f",
   "metadata": {},
   "source": [
    "## HTML"
   ]
  },
  {
   "cell_type": "code",
   "execution_count": 12,
   "id": "9ee56a3b",
   "metadata": {},
   "outputs": [
    {
     "data": {
      "text/plain": [
       "[              Points               PTS\n",
       " 0     1Jamie BennDAL                87\n",
       " 1   2John TavaresNYI                86\n",
       " 2  3Sidney CrosbyPIT                84\n",
       " 3  4Alex OvechkinWSH                81\n",
       " 4  4Jakub VoracekPHI                81\n",
       " 5   Complete Leaders  Complete Leaders,\n",
       "                Goals                 G\n",
       " 0  1Alex OvechkinWSH                53\n",
       " 1  2Steven StamkosTB                43\n",
       " 2      3Rick NashNYR                42\n",
       " 3   4John TavaresNYI                38\n",
       " 4   5Tyler SeguinDAL                37\n",
       " 5   Complete Leaders  Complete Leaders,\n",
       "            Plus/Minus               +/-\n",
       " 0  1Max PaciorettyMTL                38\n",
       " 1  1Nikita KucherovTB                38\n",
       " 2    3Tyler JohnsonTB                33\n",
       " 3     4Ondrej PalatTB                31\n",
       " 4  5Jonathan ToewsCHI                30\n",
       " 5    Complete Leaders  Complete Leaders,\n",
       "       Goals Against Avg               GAA\n",
       " 0       1Carey PriceMTL              1.96\n",
       " 1  2Devan DubnykARI/MIN              2.07\n",
       " 2       3Pekka RinneNSH              2.18\n",
       " 3        4Cam TalbotNYR              2.21\n",
       " 4     5Braden HoltbyWSH              2.22\n",
       " 5      Complete Leaders  Complete Leaders,\n",
       "         Save Percentage             SVPCT\n",
       " 0       1Carey PriceMTL              .933\n",
       " 1  2Devan DubnykARI/MIN              .929\n",
       " 2       3Steve MasonPHI              .928\n",
       " 3        4Cam TalbotNYR              .926\n",
       " 4     5Cory SchneiderNJ              .925\n",
       " 5      Complete Leaders  Complete Leaders,\n",
       "                  Wins                 W\n",
       " 0     1Carey PriceMTL                44\n",
       " 1     2Pekka RinneNSH                41\n",
       " 2   2Braden HoltbyWSH                41\n",
       " 3       4Ben BishopTB                40\n",
       " 4  5Jaroslav HalakNYI                38\n",
       " 5    Complete Leaders  Complete Leaders,\n",
       "       Skating\n",
       " 0      Points\n",
       " 1       Goals\n",
       " 2  Plus/Minus,\n",
       "              Goaltending\n",
       " 0  Goals Against Average\n",
       " 1        Save Percentage\n",
       " 2                   Wins,\n",
       "            Skating\n",
       " 0   Goals Per Game\n",
       " 1     Power Play %\n",
       " 2  Penalty Minutes,\n",
       "              Goaltending\n",
       " 0  Goals Against Average\n",
       " 1        Save Percentage\n",
       " 2               Shutouts]"
      ]
     },
     "execution_count": 12,
     "metadata": {},
     "output_type": "execute_result"
    }
   ],
   "source": [
    "data = pd.read_html('https://www.espn.com/nhl/stats?season=2015&seasontype=2')\n",
    "data"
   ]
  },
  {
   "cell_type": "code",
   "execution_count": 14,
   "id": "f1aec2e9",
   "metadata": {},
   "outputs": [
    {
     "data": {
      "text/html": [
       "<div>\n",
       "<style scoped>\n",
       "    .dataframe tbody tr th:only-of-type {\n",
       "        vertical-align: middle;\n",
       "    }\n",
       "\n",
       "    .dataframe tbody tr th {\n",
       "        vertical-align: top;\n",
       "    }\n",
       "\n",
       "    .dataframe thead th {\n",
       "        text-align: right;\n",
       "    }\n",
       "</style>\n",
       "<table border=\"1\" class=\"dataframe\">\n",
       "  <thead>\n",
       "    <tr style=\"text-align: right;\">\n",
       "      <th></th>\n",
       "      <th>Points</th>\n",
       "      <th>PTS</th>\n",
       "    </tr>\n",
       "  </thead>\n",
       "  <tbody>\n",
       "    <tr>\n",
       "      <th>0</th>\n",
       "      <td>1Jamie BennDAL</td>\n",
       "      <td>87</td>\n",
       "    </tr>\n",
       "    <tr>\n",
       "      <th>1</th>\n",
       "      <td>2John TavaresNYI</td>\n",
       "      <td>86</td>\n",
       "    </tr>\n",
       "    <tr>\n",
       "      <th>2</th>\n",
       "      <td>3Sidney CrosbyPIT</td>\n",
       "      <td>84</td>\n",
       "    </tr>\n",
       "    <tr>\n",
       "      <th>3</th>\n",
       "      <td>4Alex OvechkinWSH</td>\n",
       "      <td>81</td>\n",
       "    </tr>\n",
       "    <tr>\n",
       "      <th>4</th>\n",
       "      <td>4Jakub VoracekPHI</td>\n",
       "      <td>81</td>\n",
       "    </tr>\n",
       "  </tbody>\n",
       "</table>\n",
       "</div>"
      ],
      "text/plain": [
       "              Points PTS\n",
       "0     1Jamie BennDAL  87\n",
       "1   2John TavaresNYI  86\n",
       "2  3Sidney CrosbyPIT  84\n",
       "3  4Alex OvechkinWSH  81\n",
       "4  4Jakub VoracekPHI  81"
      ]
     },
     "execution_count": 14,
     "metadata": {},
     "output_type": "execute_result"
    }
   ],
   "source": [
    "data[0].head()"
   ]
  },
  {
   "cell_type": "markdown",
   "id": "01dc919b",
   "metadata": {},
   "source": [
    "## SQL"
   ]
  },
  {
   "cell_type": "code",
   "execution_count": 15,
   "id": "ce795802",
   "metadata": {},
   "outputs": [],
   "source": [
    "from sqlalchemy import create_engine\n",
    "engine= create_engine('sqlite:///:memory')"
   ]
  },
  {
   "cell_type": "code",
   "execution_count": 20,
   "id": "fcf5c7ba",
   "metadata": {},
   "outputs": [],
   "source": [
    "df.to_sql('sample_index', engine, index=False)"
   ]
  },
  {
   "cell_type": "code",
   "execution_count": 21,
   "id": "4b177315",
   "metadata": {},
   "outputs": [
    {
     "data": {
      "text/html": [
       "<div>\n",
       "<style scoped>\n",
       "    .dataframe tbody tr th:only-of-type {\n",
       "        vertical-align: middle;\n",
       "    }\n",
       "\n",
       "    .dataframe tbody tr th {\n",
       "        vertical-align: top;\n",
       "    }\n",
       "\n",
       "    .dataframe thead th {\n",
       "        text-align: right;\n",
       "    }\n",
       "</style>\n",
       "<table border=\"1\" class=\"dataframe\">\n",
       "  <thead>\n",
       "    <tr style=\"text-align: right;\">\n",
       "      <th></th>\n",
       "      <th>index</th>\n",
       "      <th>a</th>\n",
       "      <th>b</th>\n",
       "      <th>c</th>\n",
       "    </tr>\n",
       "  </thead>\n",
       "  <tbody>\n",
       "    <tr>\n",
       "      <th>0</th>\n",
       "      <td>0</td>\n",
       "      <td>1</td>\n",
       "      <td>5</td>\n",
       "      <td>w</td>\n",
       "    </tr>\n",
       "    <tr>\n",
       "      <th>1</th>\n",
       "      <td>1</td>\n",
       "      <td>2</td>\n",
       "      <td>6</td>\n",
       "      <td>x</td>\n",
       "    </tr>\n",
       "    <tr>\n",
       "      <th>2</th>\n",
       "      <td>2</td>\n",
       "      <td>3</td>\n",
       "      <td>7</td>\n",
       "      <td>y</td>\n",
       "    </tr>\n",
       "    <tr>\n",
       "      <th>3</th>\n",
       "      <td>3</td>\n",
       "      <td>4</td>\n",
       "      <td>5</td>\n",
       "      <td>z</td>\n",
       "    </tr>\n",
       "  </tbody>\n",
       "</table>\n",
       "</div>"
      ],
      "text/plain": [
       "   index  a  b  c\n",
       "0      0  1  5  w\n",
       "1      1  2  6  x\n",
       "2      2  3  7  y\n",
       "3      3  4  5  z"
      ]
     },
     "execution_count": 21,
     "metadata": {},
     "output_type": "execute_result"
    }
   ],
   "source": [
    "sql_df = pd.read_sql('my_table', con=engine)\n",
    "sql_df"
   ]
  },
  {
   "cell_type": "code",
   "execution_count": null,
   "id": "95f5e6bd",
   "metadata": {},
   "outputs": [],
   "source": []
  }
 ],
 "metadata": {
  "kernelspec": {
   "display_name": "Python 3 (ipykernel)",
   "language": "python",
   "name": "python3"
  },
  "language_info": {
   "codemirror_mode": {
    "name": "ipython",
    "version": 3
   },
   "file_extension": ".py",
   "mimetype": "text/x-python",
   "name": "python",
   "nbconvert_exporter": "python",
   "pygments_lexer": "ipython3",
   "version": "3.9.5"
  }
 },
 "nbformat": 4,
 "nbformat_minor": 5
}
