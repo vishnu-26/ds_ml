{
 "cells": [
  {
   "cell_type": "markdown",
   "metadata": {
    "id": "4C5eFavatmCd"
   },
   "source": [
    "# Extracting text from images and analysing the sentiment"
   ]
  },
  {
   "cell_type": "code",
   "execution_count": null,
   "metadata": {
    "colab": {
     "base_uri": "https://localhost:8080/"
    },
    "executionInfo": {
     "elapsed": 13479,
     "status": "ok",
     "timestamp": 1663525836095,
     "user": {
      "displayName": "Rohan Padhye",
      "userId": "09396827021898080600"
     },
     "user_tz": -330
    },
    "id": "9x07000wl415",
    "outputId": "9ad02e3d-964e-4170-a92d-8f78b78f64d9"
   },
   "outputs": [
    {
     "name": "stdout",
     "output_type": "stream",
     "text": [
      "\u001b[K     |████████████████████████████████| 2.9 MB 39.3 MB/s \n",
      "\u001b[K     |████████████████████████████████| 47.6 MB 2.0 MB/s \n",
      "\u001b[K     |████████████████████████████████| 108 kB 71.9 MB/s \n",
      "\u001b[K     |████████████████████████████████| 604 kB 65.9 MB/s \n",
      "\u001b[?25h"
     ]
    }
   ],
   "source": [
    "!pip install easyocr --quiet"
   ]
  },
  {
   "cell_type": "code",
   "execution_count": null,
   "metadata": {
    "id": "P4DmeU-7mymH"
   },
   "outputs": [],
   "source": [
    "import easyocr\n",
    "import cv2\n",
    "from matplotlib import pyplot as plt\n",
    "import numpy as np"
   ]
  },
  {
   "cell_type": "markdown",
   "metadata": {
    "id": "uBV3I7Ljm7Kd"
   },
   "source": [
    "## Reading images"
   ]
  },
  {
   "cell_type": "code",
   "execution_count": null,
   "metadata": {
    "id": "yzDTuzSgm3mS"
   },
   "outputs": [],
   "source": [
    "path = '/content/img.png'"
   ]
  },
  {
   "cell_type": "markdown",
   "metadata": {
    "id": "fSQhpmhxngrA"
   },
   "source": [
    "Optical Character recognition"
   ]
  },
  {
   "cell_type": "code",
   "execution_count": null,
   "metadata": {
    "colab": {
     "base_uri": "https://localhost:8080/"
    },
    "executionInfo": {
     "elapsed": 23981,
     "status": "ok",
     "timestamp": 1663525864145,
     "user": {
      "displayName": "Rohan Padhye",
      "userId": "09396827021898080600"
     },
     "user_tz": -330
    },
    "id": "LE0ec7mgnlSk",
    "outputId": "51ce10bb-66e7-466a-d4f2-d51c1ff737f9"
   },
   "outputs": [
    {
     "name": "stderr",
     "output_type": "stream",
     "text": [
      "WARNING:easyocr.easyocr:Downloading detection model, please wait. This may take several minutes depending upon your network connection.\n"
     ]
    },
    {
     "name": "stdout",
     "output_type": "stream",
     "text": [
      "Progress: |██████████████████████████████████████████████████| 100.0% Complete"
     ]
    },
    {
     "name": "stderr",
     "output_type": "stream",
     "text": [
      "WARNING:easyocr.easyocr:Downloading recognition model, please wait. This may take several minutes depending upon your network connection.\n"
     ]
    },
    {
     "name": "stdout",
     "output_type": "stream",
     "text": [
      "Progress: |██████████████████████████████████████████████████| 100.0% Complete"
     ]
    },
    {
     "data": {
      "text/plain": [
       "[([[101, 117], [1069, 117], [1069, 184], [101, 184]],\n",
       "  'Whoever is happy will make others happy too.',\n",
       "  0.762828302946354)]"
      ]
     },
     "execution_count": 4,
     "metadata": {},
     "output_type": "execute_result"
    }
   ],
   "source": [
    "reader = easyocr.Reader(['en'])\n",
    "result = reader.readtext(path)\n",
    "result"
   ]
  },
  {
   "cell_type": "markdown",
   "metadata": {
    "id": "0xbqIESRoRCR"
   },
   "source": [
    "**The result gives where the text is in our image and the text which has been recognized and lastly the confidence.**"
   ]
  },
  {
   "cell_type": "markdown",
   "metadata": {
    "id": "PJXODeBWo73I"
   },
   "source": [
    "### Visualizing where the text is in the image"
   ]
  },
  {
   "cell_type": "code",
   "execution_count": null,
   "metadata": {
    "id": "qst5T0f5oQvj"
   },
   "outputs": [],
   "source": [
    "top_left = tuple(result[0][0][0])\n",
    "bottom_right = tuple(result[0][0][2])\n",
    "text = result[0][1]\n",
    "font = cv2.FONT_HERSHEY_SIMPLEX"
   ]
  },
  {
   "cell_type": "code",
   "execution_count": null,
   "metadata": {
    "colab": {
     "base_uri": "https://localhost:8080/",
     "height": 186
    },
    "executionInfo": {
     "elapsed": 35,
     "status": "ok",
     "timestamp": 1663525864146,
     "user": {
      "displayName": "Rohan Padhye",
      "userId": "09396827021898080600"
     },
     "user_tz": -330
    },
    "id": "DEGlyBEunogI",
    "outputId": "2327500e-c44a-4c31-8235-a22f2bb77e6b"
   },
   "outputs": [
    {
     "data": {
      "image/png": "[encoded data removed]",
      "text/plain": [
       "<Figure size 432x288 with 1 Axes>"
      ]
     },
     "metadata": {
      "needs_background": "light"
     },
     "output_type": "display_data"
    }
   ],
   "source": [
    "img = cv2.imread(path)\n",
    "img = cv2.rectangle(img,top_left,bottom_right,(0,255,0),3)\n",
    "img = cv2.putText(img,text,top_left, font, 0.5,(255,255,255),2,cv2.LINE_AA)\n",
    "plt.imshow(img)\n",
    "plt.show()"
   ]
  },
  {
   "cell_type": "code",
   "execution_count": null,
   "metadata": {
    "colab": {
     "base_uri": "https://localhost:8080/",
     "height": 35
    },
    "executionInfo": {
     "elapsed": 17,
     "status": "ok",
     "timestamp": 1663525864146,
     "user": {
      "displayName": "Rohan Padhye",
      "userId": "09396827021898080600"
     },
     "user_tz": -330
    },
    "id": "NhVm1atHs4XF",
    "outputId": "9d24bdb7-a85d-4395-f3f0-66d929db6a08"
   },
   "outputs": [
    {
     "data": {
      "application/vnd.google.colaboratory.intrinsic+json": {
       "type": "string"
      },
      "text/plain": [
       "'Whoever is happy will make others happy too.'"
      ]
     },
     "execution_count": 7,
     "metadata": {},
     "output_type": "execute_result"
    }
   ],
   "source": [
    "single_text = result[0][1]\n",
    "single_text"
   ]
  },
  {
   "cell_type": "markdown",
   "metadata": {
    "id": "bA44AxzHpdTE"
   },
   "source": [
    "### Image with multiple lines of text "
   ]
  },
  {
   "cell_type": "code",
   "execution_count": null,
   "metadata": {
    "colab": {
     "base_uri": "https://localhost:8080/"
    },
    "executionInfo": {
     "elapsed": 2766,
     "status": "ok",
     "timestamp": 1663525926987,
     "user": {
      "displayName": "Rohan Padhye",
      "userId": "09396827021898080600"
     },
     "user_tz": -330
    },
    "id": "KCncYnQno2_c",
    "outputId": "73598e5f-3500-43a8-d820-4303b676e791"
   },
   "outputs": [
    {
     "data": {
      "text/plain": [
       "[([[101, 117], [1069, 117], [1069, 184], [101, 184]],\n",
       "  'Whoever is happy will make others happy too.',\n",
       "  0.762828302946354)]"
      ]
     },
     "execution_count": 10,
     "metadata": {},
     "output_type": "execute_result"
    }
   ],
   "source": [
    "path2 = '/content/img.png'\n",
    "reader = easyocr.Reader(['en'])\n",
    "result = reader.readtext(path2)\n",
    "result"
   ]
  },
  {
   "cell_type": "markdown",
   "metadata": {
    "id": "btWjBgDFp04k"
   },
   "source": [
    "Getting the text extracted from the image"
   ]
  },
  {
   "cell_type": "code",
   "execution_count": null,
   "metadata": {
    "colab": {
     "base_uri": "https://localhost:8080/",
     "height": 35
    },
    "executionInfo": {
     "elapsed": 32,
     "status": "ok",
     "timestamp": 1663526214402,
     "user": {
      "displayName": "Rohan Padhye",
      "userId": "09396827021898080600"
     },
     "user_tz": -330
    },
    "id": "_6boOwrApqyE",
    "outputId": "bb3195bd-5dde-4743-aac6-05b556d7e6b2"
   },
   "outputs": [
    {
     "data": {
      "application/vnd.google.colaboratory.intrinsic+json": {
       "type": "string"
      },
      "text/plain": [
       "'Whoever is happy will make others happy too.'"
      ]
     },
     "execution_count": 14,
     "metadata": {},
     "output_type": "execute_result"
    }
   ],
   "source": [
    "result\n",
    "final_text = result[0][1] \n",
    "final_text"
   ]
  },
  {
   "cell_type": "code",
   "execution_count": null,
   "metadata": {
    "colab": {
     "base_uri": "https://localhost:8080/",
     "height": 186
    },
    "executionInfo": {
     "elapsed": 783,
     "status": "ok",
     "timestamp": 1663526240503,
     "user": {
      "displayName": "Rohan Padhye",
      "userId": "09396827021898080600"
     },
     "user_tz": -330
    },
    "id": "BjDCi__7qAVX",
    "outputId": "c3677669-f829-4a3e-dbe1-511d9b3a559c"
   },
   "outputs": [
    {
     "data": {
      "image/png": "[encoded data removed]",
      "text/plain": [
       "<Figure size 432x288 with 1 Axes>"
      ]
     },
     "metadata": {
      "needs_background": "light"
     },
     "output_type": "display_data"
    }
   ],
   "source": [
    "img = cv2.imread(path2)\n",
    "spacer = 100\n",
    "for detection in result: \n",
    "    top_left = tuple([int(val) for val in detection[0][0]])\n",
    "    bottom_right = tuple([int(val) for val in detection[0][2]])\n",
    "    text = detection[1]\n",
    "    img = cv2.rectangle(img,top_left,bottom_right,(0,255,0),3)\n",
    "    img = cv2.putText(img,text,(20,spacer), font, 0.5,(0,255,0),2,cv2.LINE_AA)\n",
    "    spacer+=15\n",
    "    \n",
    "plt.imshow(img)\n",
    "plt.show()"
   ]
  },
  {
   "cell_type": "markdown",
   "metadata": {
    "id": "DYk3NQpRsMAa"
   },
   "source": [
    "## Sentiment Analysis on the extracted text"
   ]
  },
  {
   "cell_type": "code",
   "execution_count": null,
   "metadata": {
    "colab": {
     "base_uri": "https://localhost:8080/"
    },
    "executionInfo": {
     "elapsed": 7243,
     "status": "ok",
     "timestamp": 1663526250995,
     "user": {
      "displayName": "Rohan Padhye",
      "userId": "09396827021898080600"
     },
     "user_tz": -330
    },
    "id": "_oZ4KrR9rGfq",
    "outputId": "01754030-b6cd-4d92-e0b7-0055111a499e"
   },
   "outputs": [
    {
     "name": "stdout",
     "output_type": "stream",
     "text": [
      "Looking in indexes: https://pypi.org/simple, https://us-python.pkg.dev/colab-wheels/public/simple/\n",
      "Requirement already satisfied: textblob in /usr/local/lib/python3.7/dist-packages (0.15.3)\n",
      "Requirement already satisfied: nltk>=3.1 in /usr/local/lib/python3.7/dist-packages (from textblob) (3.7)\n",
      "Requirement already satisfied: regex>=2021.8.3 in /usr/local/lib/python3.7/dist-packages (from nltk>=3.1->textblob) (2022.6.2)\n",
      "Requirement already satisfied: joblib in /usr/local/lib/python3.7/dist-packages (from nltk>=3.1->textblob) (1.1.0)\n",
      "Requirement already satisfied: tqdm in /usr/local/lib/python3.7/dist-packages (from nltk>=3.1->textblob) (4.64.1)\n",
      "Requirement already satisfied: click in /usr/local/lib/python3.7/dist-packages (from nltk>=3.1->textblob) (7.1.2)\n",
      "[nltk_data] Downloading package brown to /root/nltk_data...\n",
      "[nltk_data]   Unzipping corpora/brown.zip.\n",
      "[nltk_data] Downloading package punkt to /root/nltk_data...\n",
      "[nltk_data]   Unzipping tokenizers/punkt.zip.\n",
      "[nltk_data] Downloading package wordnet to /root/nltk_data...\n",
      "[nltk_data] Downloading package averaged_perceptron_tagger to\n",
      "[nltk_data]     /root/nltk_data...\n",
      "[nltk_data]   Unzipping taggers/averaged_perceptron_tagger.zip.\n",
      "[nltk_data] Downloading package conll2000 to /root/nltk_data...\n",
      "[nltk_data]   Unzipping corpora/conll2000.zip.\n",
      "[nltk_data] Downloading package movie_reviews to /root/nltk_data...\n",
      "[nltk_data]   Unzipping corpora/movie_reviews.zip.\n",
      "Finished.\n"
     ]
    }
   ],
   "source": [
    "!pip install textblob\n",
    "!python -m textblob.download_corpora"
   ]
  },
  {
   "cell_type": "code",
   "execution_count": null,
   "metadata": {
    "id": "Y02LmEUnsYSO"
   },
   "outputs": [],
   "source": [
    "from textblob import TextBlob \n",
    "import nltk"
   ]
  },
  {
   "cell_type": "markdown",
   "metadata": {
    "id": "Dx3aSSsNtUFr"
   },
   "source": [
    "### Sentiment of the first image with single word"
   ]
  },
  {
   "cell_type": "code",
   "execution_count": null,
   "metadata": {
    "colab": {
     "base_uri": "https://localhost:8080/"
    },
    "executionInfo": {
     "elapsed": 4,
     "status": "ok",
     "timestamp": 1663526253090,
     "user": {
      "displayName": "Rohan Padhye",
      "userId": "09396827021898080600"
     },
     "user_tz": -330
    },
    "id": "HjOUhXm1tIaz",
    "outputId": "c35ce261-90ac-491a-ad29-e336023f841c"
   },
   "outputs": [
    {
     "data": {
      "text/plain": [
       "[('Whoever', 'WP'),\n",
       " ('is', 'VBZ'),\n",
       " ('happy', 'JJ'),\n",
       " ('will', 'MD'),\n",
       " ('make', 'VB'),\n",
       " ('others', 'NNS'),\n",
       " ('happy', 'JJ'),\n",
       " ('too', 'RB')]"
      ]
     },
     "execution_count": 18,
     "metadata": {},
     "output_type": "execute_result"
    }
   ],
   "source": [
    "blob1 = TextBlob(single_text)\n",
    "blob1.tags"
   ]
  },
  {
   "cell_type": "code",
   "execution_count": null,
   "metadata": {
    "colab": {
     "base_uri": "https://localhost:8080/"
    },
    "executionInfo": {
     "elapsed": 2630,
     "status": "ok",
     "timestamp": 1663526257897,
     "user": {
      "displayName": "Rohan Padhye",
      "userId": "09396827021898080600"
     },
     "user_tz": -330
    },
    "id": "zM2vY5X1tNg7",
    "outputId": "a8e0da6c-aa41-4f42-bd5f-899302b4e530"
   },
   "outputs": [
    {
     "data": {
      "text/plain": [
       "WordList(['whoever'])"
      ]
     },
     "execution_count": 19,
     "metadata": {},
     "output_type": "execute_result"
    }
   ],
   "source": [
    "blob1.noun_phrases"
   ]
  },
  {
   "cell_type": "code",
   "execution_count": null,
   "metadata": {
    "colab": {
     "base_uri": "https://localhost:8080/"
    },
    "executionInfo": {
     "elapsed": 4,
     "status": "ok",
     "timestamp": 1663526261092,
     "user": {
      "displayName": "Rohan Padhye",
      "userId": "09396827021898080600"
     },
     "user_tz": -330
    },
    "id": "stHHsaLbtR9_",
    "outputId": "f1403864-2d05-4ef3-b14c-d8fbd61c8c10"
   },
   "outputs": [
    {
     "name": "stdout",
     "output_type": "stream",
     "text": [
      "Sentiment(polarity=0.8, subjectivity=1.0)\n"
     ]
    }
   ],
   "source": [
    "print(blob1.sentiment)"
   ]
  },
  {
   "cell_type": "markdown",
   "metadata": {
    "id": "C5Wz-ilxtZkP"
   },
   "source": [
    "### Sentiment of the second image with multiple words"
   ]
  },
  {
   "cell_type": "code",
   "execution_count": null,
   "metadata": {
    "colab": {
     "base_uri": "https://localhost:8080/"
    },
    "executionInfo": {
     "elapsed": 717,
     "status": "ok",
     "timestamp": 1663526265792,
     "user": {
      "displayName": "Rohan Padhye",
      "userId": "09396827021898080600"
     },
     "user_tz": -330
    },
    "id": "yvmizfngsbV7",
    "outputId": "ef823556-1dee-4b54-8762-337015bb17a6"
   },
   "outputs": [
    {
     "data": {
      "text/plain": [
       "[('Whoever', 'WP'),\n",
       " ('is', 'VBZ'),\n",
       " ('happy', 'JJ'),\n",
       " ('will', 'MD'),\n",
       " ('make', 'VB'),\n",
       " ('others', 'NNS'),\n",
       " ('happy', 'JJ'),\n",
       " ('too', 'RB')]"
      ]
     },
     "execution_count": 21,
     "metadata": {},
     "output_type": "execute_result"
    }
   ],
   "source": [
    "blob = TextBlob(final_text)\n",
    "blob.tags"
   ]
  },
  {
   "cell_type": "code",
   "execution_count": null,
   "metadata": {
    "colab": {
     "base_uri": "https://localhost:8080/"
    },
    "executionInfo": {
     "elapsed": 2,
     "status": "ok",
     "timestamp": 1663526269404,
     "user": {
      "displayName": "Rohan Padhye",
      "userId": "09396827021898080600"
     },
     "user_tz": -330
    },
    "id": "cBRGPCl1sgW_",
    "outputId": "64c1de13-0198-49fd-e1bf-a2bd1c9ac919"
   },
   "outputs": [
    {
     "name": "stdout",
     "output_type": "stream",
     "text": [
      "Sentiment(polarity=0.8, subjectivity=1.0)\n"
     ]
    }
   ],
   "source": [
    "print(blob.sentiment)"
   ]
  }
 ],
 "metadata": {
  "accelerator": "GPU",
  "colab": {
   "collapsed_sections": [],
   "provenance": [
    {
     "file_id": "1oyCuuK0wvH8BEnH0iYme4QaiaCEs50K4",
     "timestamp": 1663525566499
    }
   ]
  },
  "kernelspec": {
   "display_name": "Python 3 (ipykernel)",
   "language": "python",
   "name": "python3"
  },
  "language_info": {
   "codemirror_mode": {
    "name": "ipython",
    "version": 3
   },
   "file_extension": ".py",
   "mimetype": "text/x-python",
   "name": "python",
   "nbconvert_exporter": "python",
   "pygments_lexer": "ipython3",
   "version": "3.9.5"
  }
 },
 "nbformat": 4,
 "nbformat_minor": 1
}
