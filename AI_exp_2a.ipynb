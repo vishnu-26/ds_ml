{
 "cells": [
  {
   "cell_type": "markdown",
   "metadata": {
    "id": "wbkyRht3cRGW"
   },
   "source": [
    "\n",
    "\n",
    "```\n",
    "# This is formatted as code\n",
    "```\n",
    "\n",
    "## importing libraries"
   ]
  },
  {
   "cell_type": "code",
   "execution_count": 1,
   "metadata": {
    "colab": {
     "base_uri": "https://localhost:8080/",
     "height": 0
    },
    "id": "Utbko6UdxdpA",
    "outputId": "2af66ef2-7515-44b7-ca8d-ebc3b0375638"
   },
   "outputs": [
    {
     "name": "stdout",
     "output_type": "stream",
     "text": [
      "Looking in indexes: https://pypi.org/simple, https://us-python.pkg.dev/colab-wheels/public/simple/\n",
      "Requirement already satisfied: nltk in /usr/local/lib/python3.7/dist-packages (3.7)\n",
      "Requirement already satisfied: joblib in /usr/local/lib/python3.7/dist-packages (from nltk) (1.1.0)\n",
      "Requirement already satisfied: regex>=2021.8.3 in /usr/local/lib/python3.7/dist-packages (from nltk) (2022.6.2)\n",
      "Requirement already satisfied: tqdm in /usr/local/lib/python3.7/dist-packages (from nltk) (4.64.1)\n",
      "Requirement already satisfied: click in /usr/local/lib/python3.7/dist-packages (from nltk) (7.1.2)\n",
      "Looking in indexes: https://pypi.org/simple, https://us-python.pkg.dev/colab-wheels/public/simple/\n",
      "Collecting spacy==2.3.5\n",
      "  Downloading spacy-2.3.5-cp37-cp37m-manylinux2014_x86_64.whl (10.4 MB)\n",
      "\u001b[K     |████████████████████████████████| 10.4 MB 3.7 MB/s \n",
      "\u001b[?25hRequirement already satisfied: tqdm<5.0.0,>=4.38.0 in /usr/local/lib/python3.7/dist-packages (from spacy==2.3.5) (4.64.1)\n",
      "Requirement already satisfied: blis<0.8.0,>=0.4.0 in /usr/local/lib/python3.7/dist-packages (from spacy==2.3.5) (0.7.8)\n",
      "Requirement already satisfied: wasabi<1.1.0,>=0.4.0 in /usr/local/lib/python3.7/dist-packages (from spacy==2.3.5) (0.10.1)\n",
      "Collecting thinc<7.5.0,>=7.4.1\n",
      "  Downloading thinc-7.4.5-cp37-cp37m-manylinux2014_x86_64.whl (1.0 MB)\n",
      "\u001b[K     |████████████████████████████████| 1.0 MB 49.8 MB/s \n",
      "\u001b[?25hCollecting srsly<1.1.0,>=1.0.2\n",
      "  Downloading srsly-1.0.5-cp37-cp37m-manylinux2014_x86_64.whl (184 kB)\n",
      "\u001b[K     |████████████████████████████████| 184 kB 53.1 MB/s \n",
      "\u001b[?25hRequirement already satisfied: murmurhash<1.1.0,>=0.28.0 in /usr/local/lib/python3.7/dist-packages (from spacy==2.3.5) (1.0.8)\n",
      "Requirement already satisfied: numpy>=1.15.0 in /usr/local/lib/python3.7/dist-packages (from spacy==2.3.5) (1.21.6)\n",
      "Collecting plac<1.2.0,>=0.9.6\n",
      "  Downloading plac-1.1.3-py2.py3-none-any.whl (20 kB)\n",
      "Requirement already satisfied: preshed<3.1.0,>=3.0.2 in /usr/local/lib/python3.7/dist-packages (from spacy==2.3.5) (3.0.7)\n",
      "Collecting catalogue<1.1.0,>=0.0.7\n",
      "  Downloading catalogue-1.0.0-py2.py3-none-any.whl (7.7 kB)\n",
      "Requirement already satisfied: requests<3.0.0,>=2.13.0 in /usr/local/lib/python3.7/dist-packages (from spacy==2.3.5) (2.23.0)\n",
      "Requirement already satisfied: cymem<2.1.0,>=2.0.2 in /usr/local/lib/python3.7/dist-packages (from spacy==2.3.5) (2.0.6)\n",
      "Requirement already satisfied: setuptools in /usr/local/lib/python3.7/dist-packages (from spacy==2.3.5) (57.4.0)\n",
      "Requirement already satisfied: importlib-metadata>=0.20 in /usr/local/lib/python3.7/dist-packages (from catalogue<1.1.0,>=0.0.7->spacy==2.3.5) (4.12.0)\n",
      "Requirement already satisfied: typing-extensions>=3.6.4 in /usr/local/lib/python3.7/dist-packages (from importlib-metadata>=0.20->catalogue<1.1.0,>=0.0.7->spacy==2.3.5) (4.1.1)\n",
      "Requirement already satisfied: zipp>=0.5 in /usr/local/lib/python3.7/dist-packages (from importlib-metadata>=0.20->catalogue<1.1.0,>=0.0.7->spacy==2.3.5) (3.8.1)\n",
      "Requirement already satisfied: certifi>=2017.4.17 in /usr/local/lib/python3.7/dist-packages (from requests<3.0.0,>=2.13.0->spacy==2.3.5) (2022.6.15)\n",
      "Requirement already satisfied: chardet<4,>=3.0.2 in /usr/local/lib/python3.7/dist-packages (from requests<3.0.0,>=2.13.0->spacy==2.3.5) (3.0.4)\n",
      "Requirement already satisfied: idna<3,>=2.5 in /usr/local/lib/python3.7/dist-packages (from requests<3.0.0,>=2.13.0->spacy==2.3.5) (2.10)\n",
      "Requirement already satisfied: urllib3!=1.25.0,!=1.25.1,<1.26,>=1.21.1 in /usr/local/lib/python3.7/dist-packages (from requests<3.0.0,>=2.13.0->spacy==2.3.5) (1.24.3)\n",
      "Installing collected packages: srsly, plac, catalogue, thinc, spacy\n",
      "  Attempting uninstall: srsly\n",
      "    Found existing installation: srsly 2.4.4\n",
      "    Uninstalling srsly-2.4.4:\n",
      "      Successfully uninstalled srsly-2.4.4\n",
      "  Attempting uninstall: catalogue\n",
      "    Found existing installation: catalogue 2.0.8\n",
      "    Uninstalling catalogue-2.0.8:\n",
      "      Successfully uninstalled catalogue-2.0.8\n",
      "  Attempting uninstall: thinc\n",
      "    Found existing installation: thinc 8.1.0\n",
      "    Uninstalling thinc-8.1.0:\n",
      "      Successfully uninstalled thinc-8.1.0\n",
      "  Attempting uninstall: spacy\n",
      "    Found existing installation: spacy 3.4.1\n",
      "    Uninstalling spacy-3.4.1:\n",
      "      Successfully uninstalled spacy-3.4.1\n",
      "\u001b[31mERROR: pip's dependency resolver does not currently take into account all the packages that are installed. This behaviour is the source of the following dependency conflicts.\n",
      "en-core-web-sm 3.4.0 requires spacy<3.5.0,>=3.4.0, but you have spacy 2.3.5 which is incompatible.\u001b[0m\n",
      "Successfully installed catalogue-1.0.0 plac-1.1.3 spacy-2.3.5 srsly-1.0.5 thinc-7.4.5\n",
      "Looking in indexes: https://pypi.org/simple, https://us-python.pkg.dev/colab-wheels/public/simple/\n",
      "Collecting https://github.com/explosion/spacy-models/releases/download/en_core_web_sm-2.3.1/en_core_web_sm-2.3.1.tar.gz\n",
      "  Downloading https://github.com/explosion/spacy-models/releases/download/en_core_web_sm-2.3.1/en_core_web_sm-2.3.1.tar.gz (12.0 MB)\n",
      "\u001b[K     |████████████████████████████████| 12.0 MB 9.5 MB/s \n",
      "\u001b[?25hRequirement already satisfied: spacy<2.4.0,>=2.3.0 in /usr/local/lib/python3.7/dist-packages (from en-core-web-sm==2.3.1) (2.3.5)\n",
      "Requirement already satisfied: setuptools in /usr/local/lib/python3.7/dist-packages (from spacy<2.4.0,>=2.3.0->en-core-web-sm==2.3.1) (57.4.0)\n",
      "Requirement already satisfied: murmurhash<1.1.0,>=0.28.0 in /usr/local/lib/python3.7/dist-packages (from spacy<2.4.0,>=2.3.0->en-core-web-sm==2.3.1) (1.0.8)\n",
      "Requirement already satisfied: srsly<1.1.0,>=1.0.2 in /usr/local/lib/python3.7/dist-packages (from spacy<2.4.0,>=2.3.0->en-core-web-sm==2.3.1) (1.0.5)\n",
      "Requirement already satisfied: numpy>=1.15.0 in /usr/local/lib/python3.7/dist-packages (from spacy<2.4.0,>=2.3.0->en-core-web-sm==2.3.1) (1.21.6)\n",
      "Requirement already satisfied: wasabi<1.1.0,>=0.4.0 in /usr/local/lib/python3.7/dist-packages (from spacy<2.4.0,>=2.3.0->en-core-web-sm==2.3.1) (0.10.1)\n",
      "Requirement already satisfied: requests<3.0.0,>=2.13.0 in /usr/local/lib/python3.7/dist-packages (from spacy<2.4.0,>=2.3.0->en-core-web-sm==2.3.1) (2.23.0)\n",
      "Requirement already satisfied: thinc<7.5.0,>=7.4.1 in /usr/local/lib/python3.7/dist-packages (from spacy<2.4.0,>=2.3.0->en-core-web-sm==2.3.1) (7.4.5)\n",
      "Requirement already satisfied: tqdm<5.0.0,>=4.38.0 in /usr/local/lib/python3.7/dist-packages (from spacy<2.4.0,>=2.3.0->en-core-web-sm==2.3.1) (4.64.1)\n",
      "Requirement already satisfied: catalogue<1.1.0,>=0.0.7 in /usr/local/lib/python3.7/dist-packages (from spacy<2.4.0,>=2.3.0->en-core-web-sm==2.3.1) (1.0.0)\n",
      "Requirement already satisfied: preshed<3.1.0,>=3.0.2 in /usr/local/lib/python3.7/dist-packages (from spacy<2.4.0,>=2.3.0->en-core-web-sm==2.3.1) (3.0.7)\n",
      "Requirement already satisfied: plac<1.2.0,>=0.9.6 in /usr/local/lib/python3.7/dist-packages (from spacy<2.4.0,>=2.3.0->en-core-web-sm==2.3.1) (1.1.3)\n",
      "Requirement already satisfied: cymem<2.1.0,>=2.0.2 in /usr/local/lib/python3.7/dist-packages (from spacy<2.4.0,>=2.3.0->en-core-web-sm==2.3.1) (2.0.6)\n",
      "Requirement already satisfied: blis<0.8.0,>=0.4.0 in /usr/local/lib/python3.7/dist-packages (from spacy<2.4.0,>=2.3.0->en-core-web-sm==2.3.1) (0.7.8)\n",
      "Requirement already satisfied: importlib-metadata>=0.20 in /usr/local/lib/python3.7/dist-packages (from catalogue<1.1.0,>=0.0.7->spacy<2.4.0,>=2.3.0->en-core-web-sm==2.3.1) (4.12.0)\n",
      "Requirement already satisfied: typing-extensions>=3.6.4 in /usr/local/lib/python3.7/dist-packages (from importlib-metadata>=0.20->catalogue<1.1.0,>=0.0.7->spacy<2.4.0,>=2.3.0->en-core-web-sm==2.3.1) (4.1.1)\n",
      "Requirement already satisfied: zipp>=0.5 in /usr/local/lib/python3.7/dist-packages (from importlib-metadata>=0.20->catalogue<1.1.0,>=0.0.7->spacy<2.4.0,>=2.3.0->en-core-web-sm==2.3.1) (3.8.1)\n",
      "Requirement already satisfied: idna<3,>=2.5 in /usr/local/lib/python3.7/dist-packages (from requests<3.0.0,>=2.13.0->spacy<2.4.0,>=2.3.0->en-core-web-sm==2.3.1) (2.10)\n",
      "Requirement already satisfied: certifi>=2017.4.17 in /usr/local/lib/python3.7/dist-packages (from requests<3.0.0,>=2.13.0->spacy<2.4.0,>=2.3.0->en-core-web-sm==2.3.1) (2022.6.15)\n",
      "Requirement already satisfied: chardet<4,>=3.0.2 in /usr/local/lib/python3.7/dist-packages (from requests<3.0.0,>=2.13.0->spacy<2.4.0,>=2.3.0->en-core-web-sm==2.3.1) (3.0.4)\n",
      "Requirement already satisfied: urllib3!=1.25.0,!=1.25.1,<1.26,>=1.21.1 in /usr/local/lib/python3.7/dist-packages (from requests<3.0.0,>=2.13.0->spacy<2.4.0,>=2.3.0->en-core-web-sm==2.3.1) (1.24.3)\n",
      "Building wheels for collected packages: en-core-web-sm\n",
      "  Building wheel for en-core-web-sm (setup.py) ... \u001b[?25l\u001b[?25hdone\n",
      "  Created wheel for en-core-web-sm: filename=en_core_web_sm-2.3.1-py3-none-any.whl size=12047105 sha256=3781629366f1a671e212b41bfecc169d95e72bc0fcf51e491e86c873bae90469\n",
      "  Stored in directory: /root/.cache/pip/wheels/b7/0d/f0/7ecae8427c515065d75410989e15e5785dd3975fe06e795cd9\n",
      "Successfully built en-core-web-sm\n",
      "Installing collected packages: en-core-web-sm\n",
      "  Attempting uninstall: en-core-web-sm\n",
      "    Found existing installation: en-core-web-sm 3.4.0\n",
      "    Uninstalling en-core-web-sm-3.4.0:\n",
      "      Successfully uninstalled en-core-web-sm-3.4.0\n",
      "Successfully installed en-core-web-sm-2.3.1\n",
      "Looking in indexes: https://pypi.org/simple, https://us-python.pkg.dev/colab-wheels/public/simple/\n",
      "Collecting pyresparser\n",
      "  Downloading pyresparser-1.0.6-py3-none-any.whl (4.2 MB)\n",
      "\u001b[K     |████████████████████████████████| 4.2 MB 10.4 MB/s \n",
      "\u001b[?25hRequirement already satisfied: python-dateutil>=2.8.0 in /usr/local/lib/python3.7/dist-packages (from pyresparser) (2.8.2)\n",
      "Requirement already satisfied: pytz>=2019.1 in /usr/local/lib/python3.7/dist-packages (from pyresparser) (2022.2.1)\n",
      "Requirement already satisfied: thinc>=7.0.4 in /usr/local/lib/python3.7/dist-packages (from pyresparser) (7.4.5)\n",
      "Requirement already satisfied: pandas>=0.24.2 in /usr/local/lib/python3.7/dist-packages (from pyresparser) (1.3.5)\n",
      "Collecting docx2txt>=0.7\n",
      "  Downloading docx2txt-0.8.tar.gz (2.8 kB)\n",
      "Requirement already satisfied: six>=1.12.0 in /usr/local/lib/python3.7/dist-packages (from pyresparser) (1.15.0)\n",
      "Requirement already satisfied: nltk>=3.4.3 in /usr/local/lib/python3.7/dist-packages (from pyresparser) (3.7)\n",
      "Requirement already satisfied: jsonschema>=3.0.1 in /usr/local/lib/python3.7/dist-packages (from pyresparser) (4.3.3)\n",
      "Requirement already satisfied: attrs>=19.1.0 in /usr/local/lib/python3.7/dist-packages (from pyresparser) (22.1.0)\n",
      "Requirement already satisfied: chardet>=3.0.4 in /usr/local/lib/python3.7/dist-packages (from pyresparser) (3.0.4)\n",
      "Requirement already satisfied: certifi>=2019.6.16 in /usr/local/lib/python3.7/dist-packages (from pyresparser) (2022.6.15)\n",
      "Requirement already satisfied: preshed>=2.0.1 in /usr/local/lib/python3.7/dist-packages (from pyresparser) (3.0.7)\n",
      "Requirement already satisfied: tqdm>=4.32.2 in /usr/local/lib/python3.7/dist-packages (from pyresparser) (4.64.1)\n",
      "Requirement already satisfied: numpy>=1.16.4 in /usr/local/lib/python3.7/dist-packages (from pyresparser) (1.21.6)\n",
      "Requirement already satisfied: blis>=0.2.4 in /usr/local/lib/python3.7/dist-packages (from pyresparser) (0.7.8)\n",
      "Collecting urllib3>=1.25.3\n",
      "  Downloading urllib3-1.26.12-py2.py3-none-any.whl (140 kB)\n",
      "\u001b[K     |████████████████████████████████| 140 kB 40.8 MB/s \n",
      "\u001b[?25hRequirement already satisfied: pyrsistent>=0.15.2 in /usr/local/lib/python3.7/dist-packages (from pyresparser) (0.18.1)\n",
      "Collecting pycryptodome>=3.8.2\n",
      "  Downloading pycryptodome-3.15.0-cp35-abi3-manylinux2010_x86_64.whl (2.3 MB)\n",
      "\u001b[K     |████████████████████████████████| 2.3 MB 34.8 MB/s \n",
      "\u001b[?25hRequirement already satisfied: idna>=2.8 in /usr/local/lib/python3.7/dist-packages (from pyresparser) (2.10)\n",
      "Requirement already satisfied: cymem>=2.0.2 in /usr/local/lib/python3.7/dist-packages (from pyresparser) (2.0.6)\n",
      "Requirement already satisfied: wasabi>=0.2.2 in /usr/local/lib/python3.7/dist-packages (from pyresparser) (0.10.1)\n",
      "Requirement already satisfied: srsly>=0.0.7 in /usr/local/lib/python3.7/dist-packages (from pyresparser) (1.0.5)\n",
      "Collecting pdfminer.six>=20181108\n",
      "  Downloading pdfminer.six-20220524-py3-none-any.whl (5.6 MB)\n",
      "\u001b[K     |████████████████████████████████| 5.6 MB 36.9 MB/s \n",
      "\u001b[?25hRequirement already satisfied: spacy>=2.1.4 in /usr/local/lib/python3.7/dist-packages (from pyresparser) (2.3.5)\n",
      "Requirement already satisfied: requests>=2.22.0 in /usr/local/lib/python3.7/dist-packages (from pyresparser) (2.23.0)\n",
      "Requirement already satisfied: sortedcontainers>=2.1.0 in /usr/local/lib/python3.7/dist-packages (from pyresparser) (2.4.0)\n",
      "Requirement already satisfied: importlib-resources>=1.4.0 in /usr/local/lib/python3.7/dist-packages (from jsonschema>=3.0.1->pyresparser) (5.9.0)\n",
      "Requirement already satisfied: importlib-metadata in /usr/local/lib/python3.7/dist-packages (from jsonschema>=3.0.1->pyresparser) (4.12.0)\n",
      "Requirement already satisfied: typing-extensions in /usr/local/lib/python3.7/dist-packages (from jsonschema>=3.0.1->pyresparser) (4.1.1)\n",
      "Requirement already satisfied: zipp>=3.1.0 in /usr/local/lib/python3.7/dist-packages (from importlib-resources>=1.4.0->jsonschema>=3.0.1->pyresparser) (3.8.1)\n",
      "Requirement already satisfied: regex>=2021.8.3 in /usr/local/lib/python3.7/dist-packages (from nltk>=3.4.3->pyresparser) (2022.6.2)\n",
      "Requirement already satisfied: click in /usr/local/lib/python3.7/dist-packages (from nltk>=3.4.3->pyresparser) (7.1.2)\n",
      "Requirement already satisfied: joblib in /usr/local/lib/python3.7/dist-packages (from nltk>=3.4.3->pyresparser) (1.1.0)\n",
      "Requirement already satisfied: charset-normalizer>=2.0.0 in /usr/local/lib/python3.7/dist-packages (from pdfminer.six>=20181108->pyresparser) (2.1.1)\n",
      "Collecting cryptography>=36.0.0\n",
      "  Downloading cryptography-38.0.1-cp36-abi3-manylinux_2_24_x86_64.whl (4.0 MB)\n",
      "\u001b[K     |████████████████████████████████| 4.0 MB 31.5 MB/s \n",
      "\u001b[?25hRequirement already satisfied: cffi>=1.12 in /usr/local/lib/python3.7/dist-packages (from cryptography>=36.0.0->pdfminer.six>=20181108->pyresparser) (1.15.1)\n",
      "Requirement already satisfied: pycparser in /usr/local/lib/python3.7/dist-packages (from cffi>=1.12->cryptography>=36.0.0->pdfminer.six>=20181108->pyresparser) (2.21)\n",
      "Requirement already satisfied: murmurhash<1.1.0,>=0.28.0 in /usr/local/lib/python3.7/dist-packages (from preshed>=2.0.1->pyresparser) (1.0.8)\n",
      "Collecting urllib3>=1.25.3\n",
      "  Downloading urllib3-1.25.11-py2.py3-none-any.whl (127 kB)\n",
      "\u001b[K     |████████████████████████████████| 127 kB 31.9 MB/s \n",
      "\u001b[?25hRequirement already satisfied: setuptools in /usr/local/lib/python3.7/dist-packages (from spacy>=2.1.4->pyresparser) (57.4.0)\n",
      "Requirement already satisfied: catalogue<1.1.0,>=0.0.7 in /usr/local/lib/python3.7/dist-packages (from spacy>=2.1.4->pyresparser) (1.0.0)\n",
      "Requirement already satisfied: plac<1.2.0,>=0.9.6 in /usr/local/lib/python3.7/dist-packages (from spacy>=2.1.4->pyresparser) (1.1.3)\n",
      "Building wheels for collected packages: docx2txt\n",
      "  Building wheel for docx2txt (setup.py) ... \u001b[?25l\u001b[?25hdone\n",
      "  Created wheel for docx2txt: filename=docx2txt-0.8-py3-none-any.whl size=3980 sha256=c694a2e67d9714fb268ee724812bcae16414617699c2731a11e55756e0bbaed0\n",
      "  Stored in directory: /root/.cache/pip/wheels/b7/20/b2/473e3aea9a0c0d3e7b2f7bd81d06d0794fec12752733d1f3a8\n",
      "Successfully built docx2txt\n",
      "Installing collected packages: urllib3, cryptography, pycryptodome, pdfminer.six, docx2txt, pyresparser\n",
      "  Attempting uninstall: urllib3\n",
      "    Found existing installation: urllib3 1.24.3\n",
      "    Uninstalling urllib3-1.24.3:\n",
      "      Successfully uninstalled urllib3-1.24.3\n",
      "Successfully installed cryptography-38.0.1 docx2txt-0.8 pdfminer.six-20220524 pycryptodome-3.15.0 pyresparser-1.0.6 urllib3-1.25.11\n"
     ]
    }
   ],
   "source": [
    "!pip install nltk\n",
    "!pip install spacy==2.3.5\n",
    "!pip install https://github.com/explosion/spacy-models/releases/download/en_core_web_sm-2.3.1/en_core_web_sm-2.3.1.tar.gz\n",
    "!pip install pyresparser"
   ]
  },
  {
   "cell_type": "code",
   "execution_count": 2,
   "metadata": {
    "colab": {
     "base_uri": "https://localhost:8080/",
     "height": 0
    },
    "id": "IGw6jz18Iwyr",
    "outputId": "e28ba878-d155-4792-fd77-d169d2a2f76b"
   },
   "outputs": [
    {
     "name": "stdout",
     "output_type": "stream",
     "text": [
      "Looking in indexes: https://pypi.org/simple, https://us-python.pkg.dev/colab-wheels/public/simple/\n",
      "Collecting en_core_web_sm==2.3.1\n",
      "  Downloading https://github.com/explosion/spacy-models/releases/download/en_core_web_sm-2.3.1/en_core_web_sm-2.3.1.tar.gz (12.0 MB)\n",
      "\u001b[K     |████████████████████████████████| 12.0 MB 8.8 MB/s \n",
      "\u001b[?25hRequirement already satisfied: spacy<2.4.0,>=2.3.0 in /usr/local/lib/python3.7/dist-packages (from en_core_web_sm==2.3.1) (2.3.5)\n",
      "Requirement already satisfied: numpy>=1.15.0 in /usr/local/lib/python3.7/dist-packages (from spacy<2.4.0,>=2.3.0->en_core_web_sm==2.3.1) (1.21.6)\n",
      "Requirement already satisfied: requests<3.0.0,>=2.13.0 in /usr/local/lib/python3.7/dist-packages (from spacy<2.4.0,>=2.3.0->en_core_web_sm==2.3.1) (2.23.0)\n",
      "Requirement already satisfied: blis<0.8.0,>=0.4.0 in /usr/local/lib/python3.7/dist-packages (from spacy<2.4.0,>=2.3.0->en_core_web_sm==2.3.1) (0.7.8)\n",
      "Requirement already satisfied: wasabi<1.1.0,>=0.4.0 in /usr/local/lib/python3.7/dist-packages (from spacy<2.4.0,>=2.3.0->en_core_web_sm==2.3.1) (0.10.1)\n",
      "Requirement already satisfied: plac<1.2.0,>=0.9.6 in /usr/local/lib/python3.7/dist-packages (from spacy<2.4.0,>=2.3.0->en_core_web_sm==2.3.1) (1.1.3)\n",
      "Requirement already satisfied: setuptools in /usr/local/lib/python3.7/dist-packages (from spacy<2.4.0,>=2.3.0->en_core_web_sm==2.3.1) (57.4.0)\n",
      "Requirement already satisfied: catalogue<1.1.0,>=0.0.7 in /usr/local/lib/python3.7/dist-packages (from spacy<2.4.0,>=2.3.0->en_core_web_sm==2.3.1) (1.0.0)\n",
      "Requirement already satisfied: preshed<3.1.0,>=3.0.2 in /usr/local/lib/python3.7/dist-packages (from spacy<2.4.0,>=2.3.0->en_core_web_sm==2.3.1) (3.0.7)\n",
      "Requirement already satisfied: tqdm<5.0.0,>=4.38.0 in /usr/local/lib/python3.7/dist-packages (from spacy<2.4.0,>=2.3.0->en_core_web_sm==2.3.1) (4.64.1)\n",
      "Requirement already satisfied: cymem<2.1.0,>=2.0.2 in /usr/local/lib/python3.7/dist-packages (from spacy<2.4.0,>=2.3.0->en_core_web_sm==2.3.1) (2.0.6)\n",
      "Requirement already satisfied: srsly<1.1.0,>=1.0.2 in /usr/local/lib/python3.7/dist-packages (from spacy<2.4.0,>=2.3.0->en_core_web_sm==2.3.1) (1.0.5)\n",
      "Requirement already satisfied: murmurhash<1.1.0,>=0.28.0 in /usr/local/lib/python3.7/dist-packages (from spacy<2.4.0,>=2.3.0->en_core_web_sm==2.3.1) (1.0.8)\n",
      "Requirement already satisfied: thinc<7.5.0,>=7.4.1 in /usr/local/lib/python3.7/dist-packages (from spacy<2.4.0,>=2.3.0->en_core_web_sm==2.3.1) (7.4.5)\n",
      "Requirement already satisfied: importlib-metadata>=0.20 in /usr/local/lib/python3.7/dist-packages (from catalogue<1.1.0,>=0.0.7->spacy<2.4.0,>=2.3.0->en_core_web_sm==2.3.1) (4.12.0)\n",
      "Requirement already satisfied: typing-extensions>=3.6.4 in /usr/local/lib/python3.7/dist-packages (from importlib-metadata>=0.20->catalogue<1.1.0,>=0.0.7->spacy<2.4.0,>=2.3.0->en_core_web_sm==2.3.1) (4.1.1)\n",
      "Requirement already satisfied: zipp>=0.5 in /usr/local/lib/python3.7/dist-packages (from importlib-metadata>=0.20->catalogue<1.1.0,>=0.0.7->spacy<2.4.0,>=2.3.0->en_core_web_sm==2.3.1) (3.8.1)\n",
      "Requirement already satisfied: chardet<4,>=3.0.2 in /usr/local/lib/python3.7/dist-packages (from requests<3.0.0,>=2.13.0->spacy<2.4.0,>=2.3.0->en_core_web_sm==2.3.1) (3.0.4)\n",
      "Requirement already satisfied: urllib3!=1.25.0,!=1.25.1,<1.26,>=1.21.1 in /usr/local/lib/python3.7/dist-packages (from requests<3.0.0,>=2.13.0->spacy<2.4.0,>=2.3.0->en_core_web_sm==2.3.1) (1.25.11)\n",
      "Requirement already satisfied: idna<3,>=2.5 in /usr/local/lib/python3.7/dist-packages (from requests<3.0.0,>=2.13.0->spacy<2.4.0,>=2.3.0->en_core_web_sm==2.3.1) (2.10)\n",
      "Requirement already satisfied: certifi>=2017.4.17 in /usr/local/lib/python3.7/dist-packages (from requests<3.0.0,>=2.13.0->spacy<2.4.0,>=2.3.0->en_core_web_sm==2.3.1) (2022.6.15)\n",
      "\u001b[38;5;2m✔ Download and installation successful\u001b[0m\n",
      "You can now load the model via spacy.load('en_core_web_sm')\n",
      "/usr/lib/python3.7/runpy.py:125: RuntimeWarning: 'nltk.downloader' found in sys.modules after import of package 'nltk', but prior to execution of 'nltk.downloader'; this may result in unpredictable behaviour\n",
      "  warn(RuntimeWarning(msg))\n",
      "[nltk_data] Downloading package words to /root/nltk_data...\n",
      "[nltk_data]   Unzipping corpora/words.zip.\n"
     ]
    }
   ],
   "source": [
    "# spaCy\n",
    "!python -m spacy download en_core_web_sm\n",
    "\n",
    "# nltk\n",
    "!python -m nltk.downloader words"
   ]
  },
  {
   "cell_type": "code",
   "execution_count": 3,
   "metadata": {
    "id": "KurpJy89JQq0"
   },
   "outputs": [],
   "source": [
    "import nltk\n"
   ]
  },
  {
   "cell_type": "code",
   "execution_count": 4,
   "metadata": {
    "colab": {
     "base_uri": "https://localhost:8080/",
     "height": 0
    },
    "id": "w7hl0usdKH-R",
    "outputId": "01c66993-35aa-4c3d-d4c5-c3dfcf0ed710"
   },
   "outputs": [
    {
     "name": "stderr",
     "output_type": "stream",
     "text": [
      "[nltk_data] Downloading package stopwords to /root/nltk_data...\n",
      "[nltk_data]   Unzipping corpora/stopwords.zip.\n"
     ]
    },
    {
     "data": {
      "text/plain": [
       "True"
      ]
     },
     "execution_count": 4,
     "metadata": {},
     "output_type": "execute_result"
    }
   ],
   "source": [
    "nltk.download('stopwords')"
   ]
  },
  {
   "cell_type": "code",
   "execution_count": 5,
   "metadata": {
    "id": "bsXJwj5gI7gU"
   },
   "outputs": [],
   "source": [
    "from pyresparser import ResumeParser"
   ]
  },
  {
   "cell_type": "code",
   "execution_count": 6,
   "metadata": {
    "colab": {
     "base_uri": "https://localhost:8080/",
     "height": 0
    },
    "id": "bDnGudyGx1tC",
    "outputId": "8e3ce54b-c6f8-4a35-8445-b64b1b89011a"
   },
   "outputs": [
    {
     "name": "stdout",
     "output_type": "stream",
     "text": [
      "Looking in indexes: https://pypi.org/simple, https://us-python.pkg.dev/colab-wheels/public/simple/\n",
      "Collecting python-docx\n",
      "  Downloading python-docx-0.8.11.tar.gz (5.6 MB)\n",
      "\u001b[K     |████████████████████████████████| 5.6 MB 8.7 MB/s \n",
      "\u001b[?25hRequirement already satisfied: lxml>=2.3.2 in /usr/local/lib/python3.7/dist-packages (from python-docx) (4.9.1)\n",
      "Building wheels for collected packages: python-docx\n",
      "  Building wheel for python-docx (setup.py) ... \u001b[?25l\u001b[?25hdone\n",
      "  Created wheel for python-docx: filename=python_docx-0.8.11-py3-none-any.whl size=184507 sha256=d6efea4abbc00bb99e04fe7370c938fb3708988568e43316a6a2df3f85c642e5\n",
      "  Stored in directory: /root/.cache/pip/wheels/f6/6f/b9/d798122a8b55b74ad30b5f52b01482169b445fbb84a11797a6\n",
      "Successfully built python-docx\n",
      "Installing collected packages: python-docx\n",
      "Successfully installed python-docx-0.8.11\n",
      "Looking in indexes: https://pypi.org/simple, https://us-python.pkg.dev/colab-wheels/public/simple/\n",
      "Collecting PyPDF2\n",
      "  Downloading PyPDF2-2.10.9-py3-none-any.whl (218 kB)\n",
      "\u001b[K     |████████████████████████████████| 218 kB 6.6 MB/s \n",
      "\u001b[?25hRequirement already satisfied: typing-extensions>=3.10.0.0 in /usr/local/lib/python3.7/dist-packages (from PyPDF2) (4.1.1)\n",
      "Installing collected packages: PyPDF2\n",
      "Successfully installed PyPDF2-2.10.9\n"
     ]
    }
   ],
   "source": [
    "!pip install python-docx\n",
    "!pip install PyPDF2"
   ]
  },
  {
   "cell_type": "code",
   "execution_count": 7,
   "metadata": {
    "id": "WEH7tgIN0QNx"
   },
   "outputs": [],
   "source": [
    "import PyPDF2\n",
    "import os\n",
    "from os import listdir\n",
    "from os.path import isfile, join\n",
    "from io import StringIO\n",
    "import pandas as pd\n",
    "from collections import Counter\n",
    "import en_core_web_sm\n",
    "nlp = en_core_web_sm.load()\n",
    "from spacy.matcher import PhraseMatcher\n",
    "import matplotlib.pyplot as plt\n",
    "import numpy as np\n"
   ]
  },
  {
   "cell_type": "code",
   "execution_count": 8,
   "metadata": {
    "id": "gAkVxOSux0Ao"
   },
   "outputs": [],
   "source": [
    "import os\n",
    "from docx import Document"
   ]
  },
  {
   "cell_type": "code",
   "execution_count": 9,
   "metadata": {
    "colab": {
     "base_uri": "https://localhost:8080/",
     "height": 0
    },
    "id": "j46X508dxr9D",
    "outputId": "54a050ed-6846-4293-f48c-70e28160e7b6"
   },
   "outputs": [
    {
     "name": "stdout",
     "output_type": "stream",
     "text": [
      "/content/webResume.pdf\n"
     ]
    }
   ],
   "source": [
    "filed=input()"
   ]
  },
  {
   "cell_type": "markdown",
   "metadata": {
    "id": "pb8qMR_IcVYz"
   },
   "source": [
    "### Parsing resume \n",
    "* skills in resume"
   ]
  },
  {
   "cell_type": "code",
   "execution_count": 10,
   "metadata": {
    "colab": {
     "base_uri": "https://localhost:8080/",
     "height": 0
    },
    "id": "1WYbQVKxxj-E",
    "outputId": "767d87c6-221c-46e1-8dad-cf62c36fa66b"
   },
   "outputs": [
    {
     "name": "stderr",
     "output_type": "stream",
     "text": [
      "/usr/local/lib/python3.7/dist-packages/spacy/util.py:275: UserWarning: [W031] Model 'en_training' (0.0.0) requires spaCy v2.1 and is incompatible with the current spaCy version (2.3.5). This may lead to unexpected results or runtime errors. To resolve this, download a newer compatible model or retrain your custom model with the current spaCy version. For more details and available updates, run: python -m spacy validate\n",
      "  warnings.warn(warn_msg)\n"
     ]
    },
    {
     "name": "stdout",
     "output_type": "stream",
     "text": [
      "['Mysql', 'System', 'Coding', 'Seo', 'Windows', 'Prototype', 'Scripting', 'Sql server', 'Photoshop', 'Analysis', 'Marketing', 'Content', 'Administration', 'Linux', 'Php', 'Design', 'Engineering', 'Ruby', 'Java', 'Html', 'Css', 'Pharmacy', 'Research', 'Saas', 'Web services', 'Xml', 'Sql', 'Communication', 'Postgresql', 'Strategy', 'Training', 'Branding', 'Javascript', 'Adobe', 'Soap', 'Merchant', 'Perl', 'Programming', 'Testing', 'Jsp', 'Intranet', 'Website', 'Shell', 'Process', 'Servers']\n"
     ]
    }
   ],
   "source": [
    "\n",
    "try:\n",
    "    doc = Document()\n",
    "    with open(filed, 'r') as file:\n",
    "        doc.add_paragraph(file.read())\n",
    "    doc.save(\"text.docx\")\n",
    "    data = ResumeParser('text.docx').get_extracted_data()\n",
    "    print(data['skills'])\n",
    "except:\n",
    "    data = ResumeParser(filed).get_extracted_data()\n",
    "    print(data['skills'])"
   ]
  },
  {
   "cell_type": "markdown",
   "metadata": {
    "id": "HCyjA-STcbbL"
   },
   "source": [
    "## Summary about the name, email, skills,experience, number of pages and total experience to determine the experience"
   ]
  },
  {
   "cell_type": "code",
   "execution_count": 11,
   "metadata": {
    "colab": {
     "base_uri": "https://localhost:8080/",
     "height": 0
    },
    "id": "tlHJsWdOxoVi",
    "outputId": "7d70e663-15aa-4403-aa5b-528e677af8b9"
   },
   "outputs": [
    {
     "data": {
      "text/plain": [
       "{'name': 'David Cole',\n",
       " 'email': 'davidcole@davidcole.net',\n",
       " 'mobile_number': '843-388-2405',\n",
       " 'skills': ['Mysql',\n",
       "  'System',\n",
       "  'Coding',\n",
       "  'Seo',\n",
       "  'Windows',\n",
       "  'Prototype',\n",
       "  'Scripting',\n",
       "  'Sql server',\n",
       "  'Photoshop',\n",
       "  'Analysis',\n",
       "  'Marketing',\n",
       "  'Content',\n",
       "  'Administration',\n",
       "  'Linux',\n",
       "  'Php',\n",
       "  'Design',\n",
       "  'Engineering',\n",
       "  'Ruby',\n",
       "  'Java',\n",
       "  'Html',\n",
       "  'Css',\n",
       "  'Pharmacy',\n",
       "  'Research',\n",
       "  'Saas',\n",
       "  'Web services',\n",
       "  'Xml',\n",
       "  'Sql',\n",
       "  'Communication',\n",
       "  'Postgresql',\n",
       "  'Strategy',\n",
       "  'Training',\n",
       "  'Branding',\n",
       "  'Javascript',\n",
       "  'Adobe',\n",
       "  'Soap',\n",
       "  'Merchant',\n",
       "  'Perl',\n",
       "  'Programming',\n",
       "  'Testing',\n",
       "  'Jsp',\n",
       "  'Intranet',\n",
       "  'Website',\n",
       "  'Shell',\n",
       "  'Process',\n",
       "  'Servers'],\n",
       " 'college_name': None,\n",
       " 'degree': ['Master of Science'],\n",
       " 'designation': ['Senior Web Developer',\n",
       "  'web developer',\n",
       "  'Owner/Web Developer',\n",
       "  'Software Developer'],\n",
       " 'experience': [],\n",
       " 'company_names': ['Microsoft'],\n",
       " 'no_of_pages': 2,\n",
       " 'total_experience': 0.0}"
      ]
     },
     "execution_count": 11,
     "metadata": {},
     "output_type": "execute_result"
    }
   ],
   "source": [
    "data"
   ]
  },
  {
   "cell_type": "markdown",
   "metadata": {
    "id": "iIGVcOrpctuy"
   },
   "source": [
    "## Analysis for fitting job profile"
   ]
  },
  {
   "cell_type": "code",
   "execution_count": 12,
   "metadata": {
    "id": "O3sAEh_dynlx"
   },
   "outputs": [],
   "source": [
    "def pdfextract(file):\n",
    "    fileReader = PyPDF2.PdfFileReader(open(file,'rb'))\n",
    "    countpage = fileReader.getNumPages()\n",
    "    count = 0\n",
    "    text = []\n",
    "    while count < countpage:    \n",
    "        pageObj = fileReader.getPage(count)\n",
    "        count +=1\n",
    "        t = pageObj.extractText()\n",
    "        print (t)\n",
    "        text.append(t)\n",
    "    return text"
   ]
  },
  {
   "cell_type": "code",
   "execution_count": 13,
   "metadata": {
    "id": "OYTohLLDVFTV"
   },
   "outputs": [],
   "source": [
    "def create_profile(file):\n",
    "    text = pdfextract(file) \n",
    "    text = str(text)\n",
    "    text = text.replace(\"\\\\n\", \"\")\n",
    "    text = text.lower()\n",
    "    #below is the csv where we have all the keywords, you can customize your own\n",
    "    keyword_dict = pd.read_csv('/content/new.csv')\n",
    "    WD_words = [nlp(text) for text in keyword_dict['Web development'].dropna(axis = 0)]\n",
    "    FE_words = [nlp(text) for text in keyword_dict['Frontend'].dropna(axis = 0)]\n",
    "    BE_words = [nlp(text) for text in keyword_dict['Backend'].dropna(axis = 0)]\n",
    "\n",
    "\n",
    "    matcher = PhraseMatcher(nlp.vocab)\n",
    "    matcher.add('WD', None, *WD_words)\n",
    "    matcher.add('FE', None, *FE_words)\n",
    "    matcher.add('BE', None, *BE_words)\n",
    "\n",
    "    doc = nlp(text)\n",
    "    matches = matcher(doc)\n",
    "    keyws = []\n",
    "    for match_id, start, end in matches:\n",
    "      span = doc[start:end]\n",
    "      keyws.append(span.text)\n",
    "      print(span.text)\n",
    "    return keyws"
   ]
  },
  {
   "cell_type": "code",
   "execution_count": 14,
   "metadata": {
    "colab": {
     "base_uri": "https://localhost:8080/",
     "height": 0
    },
    "id": "LFTBmBL2VGwP",
    "outputId": "6d024cca-5fe1-4464-d495-136a0b9d500d"
   },
   "outputs": [
    {
     "name": "stderr",
     "output_type": "stream",
     "text": [
      "WARNING:PyPDF2._reader:Xref table not zero-indexed. ID numbers for objects will be corrected.\n"
     ]
    },
    {
     "name": "stdout",
     "output_type": "stream",
     "text": [
      "D a v i d  C o l e  web developer  \n",
      " \n",
      "843-388-2405  ∙ davidcole@davidcole.net  ∙ www. davidcole.net  \n",
      "Code samples  and r eferences available upon request.  1 of 2 David Cole  ∙ 843-388-2405  ∙ davidcole@davidcole.net  P r o f i l e  \n",
      "Results -oriented Web Application Developer and Online Business Developer with considerable training and \n",
      "enterprise experience in Web site design and layout and in all stages of design, coding, and testing of Web \n",
      "applications, and in the formation, planning, and implementation of online business ventures.  \n",
      "O b j e c t i v e  \n",
      "To obtain a position as a web application developer in a fun, fast paced , cutting edge environment  that \n",
      "promotes team work  and integrity and  that fosters personal and professional development.  \n",
      "W e b  D e v e l o p m e n t  S u m m a r y  \n",
      "• Over ten years of professional software and Web application development experience  \n",
      "• Ruby, Ruby on Rails , object -oriented PHP , and Java, including and JSP and Servlets  \n",
      "• MVC, design patterns , Object -oriented Analysis and Design (OOAD), Web 2.0, SaaS , and Git \n",
      "• HTML , XHTML, WML, and CSS  \n",
      "• JavaScript  and AJAX, including Prototype and script.aculo.us  libraries  \n",
      "• Web Services, SOAP, RESTful Services , Atom,  and RSS  \n",
      "• HTTP, TCP/IP, FTP, SMTP, and POP3  \n",
      "• SQL, XML, MySQL, Postgresql, and Microsoft SQL Server  \n",
      "• Apache, Jakarta Tomcat, and WEBrick  \n",
      "• Red Hat Enterprise Linux, Fedora, and Microsoft Server  \n",
      "• Linux commands  and tools , Perl, shell scripting  with bash, and regular expres sions  \n",
      "• Proven Search Engine Optimization and Marketing (SEO/SEM)  experience  \n",
      "• Excellent written and verbal communication skills  \n",
      "• Online business development and strategy  \n",
      "• Adobe Photoshop  and a solid understanding of good website design  \n",
      "E d u c a t i o n  \n",
      "Marlboro College  August 2002  \n",
      "Master of Science, Internet Enginee ring \n",
      "As a capstone project, built a self -service website for the historical soci ety in Townshend, VT using Java, \n",
      "Postgresql, Jakarta Tomcat , and Red Hat Linux.  \n",
      "College of Charleston  June 1994  \n",
      "Bachelor of Arts, Music Theory and Composition  \n",
      "W o r k  H i s t o r y  \n",
      "Web Application Developer  www.rpwb.com  \n",
      "Richardson, Patrick, Westbrook, & Brickman, LLC  9/2003 - 10/2008  \n",
      " Built main law firm website and many  informational and case -specific websites  \n",
      " Marketed websites through low -cost organic search engine optimization and link building, gaining  first \n",
      "page ranking on Google for many highly -competitive, high -traffic, targeted keyword phrases  \n",
      " Built internal corporate Intranet, enabling interdepartmental  collaboration  \n",
      " Was solely responsible for f ull life -cycle applicat ion development and maintenance  \n",
      " Used  Photoshop, XHTML, and CSS  for all website design  \n",
      " Used JavaScript and AJAX  for all client -side scripting  \n",
      " Used  PHP, Perl, and Java  connected to SQL Server and MySQL for all s erver -side programming  \n",
      " Responsible for the a dministration of Web and FTP servers, including Apache on Red Hat Enterprise \n",
      "Linux and IIS on Windows Servers  \n",
      "D a v i d  C o l e  web developer  \n",
      " \n",
      "843-388-2405  ∙ davidcole@davidcole.net  ∙ www. davidcole.net  \n",
      "Code samples  and r eferences available upon request.  2 of 2 David Cole  ∙ 843-388-2405  ∙ davidcole@davidcole.net  W o r k  H i s t o r y  ( c o n t i n u e d )  \n",
      "Senior Web Developer  www.motleyrice.com  \n",
      "Motley Rice, LLC (formerly Ness Motley, P.A.)  4/2001 - 9/2003  \n",
      "Solely r esponsible for the development of Internet sites and Intranet/Extranet system. Duties include d \n",
      "website desig n, programming , and optimization for search engine placement . Gained high ranking for many \n",
      "competitive keyword phrases, most notably  a long -standing  #2 ranking on Google for “mesothelioma”.  \n",
      "Software Developer, Mead Westvaco  1/2001 - 4/2001  \n",
      "Web Developer, Dr. Todd Christensen (online pharmacy)  10/1999  - 5/2000  \n",
      "S o f t wa re Developer, Blackbaud, Inc.  1/1999 - 10/1999   \n",
      "Songwriter/ Saxophonist, Skwzbxx, LLC  8/1995 - 1/1999  \n",
      "B u s i n e s s  D e v e l o p m e n t  \n",
      "Owner/ Web Developer  www. back2adam .com  \n",
      "Back2Adam , Inc. 9/200 8 - Present  \n",
      "With an emphasis on family history  and individuals  in history , Back2Adam w ill be the largest and most \n",
      "complete history resource on the Internet. In addition to being  community run, user built, free, fun, and \n",
      "useful, automating much of the genealogical research process, it will encourage collaboration between \n",
      "users, pr oviding comprehensive tools to do so , and will be available globally in many languages.  \n",
      " Developed using Ruby on Rails and MySQL on Linux.  \n",
      "Owner/ Web Developer  \n",
      "Digital Charleston, LLC  8/2007 - Present  \n",
      "Provides  custom application development . \n",
      " Examples: www.wellspringcharleston.com, www.hendersonandassociates.net, www.majorandco.net, \n",
      "www.tuwbattleofthebands.com, www.ldsscripturemastery.net, www.publishyourkeyword.com  \n",
      "Owner/ Web Developer  www.professionalagent.com  \n",
      "Professional Agent, LLC  5/2005 - Present  \n",
      "Provides self -service, template -driven Web sites to real estate agents . \n",
      " Oversee and implement company bra nding, including website design  \n",
      " Developed business application including registration form with integrated merchant services; agent \n",
      "websites including co ntact forms and regional MLS integration; and a user -friendly content \n",
      "management system  \n",
      " Provide w ebsite marketing for company and client websites  \n",
      " Developed using PHP and MySQL on Linux  \n",
      "C e r t i f i c a t i o n s   \n",
      "Red Hat Certified Technician for Red Hat Enterprise Linux 5, 2008  \n",
      "Sun Certified Programmer for Java 2 Platform 1.4 , 2004 \n",
      "Prosoft Training’s Certified Internet Webmaster – Application  Developer , 2001 \n",
      "M e m b e r s h i p s  \n",
      " Charleston Metro Chamber of Commerce  \n",
      " Charleston Young Professionals  \n",
      " South Carolina  Sma ll Business Chamber of Commerce   Charleston Java User Group  \n",
      " The Internet Society (ISOC)  \n",
      " American Mensa\n",
      " \n"
     ]
    }
   ],
   "source": [
    "keys = create_profile('/content/webResume.pdf')"
   ]
  },
  {
   "cell_type": "code",
   "execution_count": 29,
   "metadata": {
    "colab": {
     "base_uri": "https://localhost:8080/",
     "height": 0
    },
    "id": "gr88ShOUPULX",
    "outputId": "3aa5a2de-38de-4beb-ba5c-24f35430d9f8"
   },
   "outputs": [
    {
     "data": {
      "text/plain": [
       "['XHTML',\n",
       " 'CSS',\n",
       " 'Linux',\n",
       " 'Linux',\n",
       " 'Linux',\n",
       " 'Linux',\n",
       " 'Linux',\n",
       " 'Linux',\n",
       " 'Linux',\n",
       " 'Python',\n",
       " 'Javascript',\n",
       " 'Javascript',\n",
       " 'Javascript',\n",
       " 'SQL',\n",
       " 'SQL',\n",
       " 'SQL']"
      ]
     },
     "execution_count": 29,
     "metadata": {},
     "output_type": "execute_result"
    }
   ],
   "source": [
    "Pkeys"
   ]
  },
  {
   "cell_type": "code",
   "execution_count": 30,
   "metadata": {
    "id": "tnGxVderakFK"
   },
   "outputs": [],
   "source": [
    " df = pd.read_csv('/content/new.csv')"
   ]
  },
  {
   "cell_type": "code",
   "execution_count": 31,
   "metadata": {
    "id": "30_u02yPWCpH"
   },
   "outputs": [],
   "source": [
    "def checkIfValuesExists1(dfObj, listOfValues):\n",
    "    resultDict = {}\n",
    "    # Iterate over the list of elements one by one\n",
    "    for elem in listOfValues:\n",
    "        # Check if the element exists in dataframe values\n",
    "        if elem in resultDict.keys():\n",
    "            resultDict[elem] +=1\n",
    "        else:\n",
    "            resultDict[elem] =1\n",
    "    return resultDict"
   ]
  },
  {
   "cell_type": "code",
   "execution_count": 32,
   "metadata": {
    "colab": {
     "base_uri": "https://localhost:8080/",
     "height": 0
    },
    "id": "L_s5txmsXN1U",
    "outputId": "ba5b2748-b26b-42e8-9117-71f8e1dbf1bf"
   },
   "outputs": [
    {
     "data": {
      "text/plain": [
       "{'XHTML': 1, 'CSS': 1, 'Linux': 7, 'Python': 1, 'Javascript': 3, 'SQL': 3}"
      ]
     },
     "execution_count": 32,
     "metadata": {},
     "output_type": "execute_result"
    }
   ],
   "source": [
    "result = checkIfValuesExists1(df, keys)\n",
    "result\n"
   ]
  },
  {
   "cell_type": "code",
   "execution_count": 33,
   "metadata": {
    "colab": {
     "base_uri": "https://localhost:8080/",
     "height": 265
    },
    "id": "LPusgGQlX98q",
    "outputId": "437b8563-aa83-4cdc-f873-8f44f4fa9eef"
   },
   "outputs": [
    {
     "data": {
      "image/png": "[encoded data removed]",
      "text/plain": [
       "<Figure size 432x288 with 1 Axes>"
      ]
     },
     "metadata": {
      "needs_background": "light"
     },
     "output_type": "display_data"
    }
   ],
   "source": [
    "plt.bar(range(len(result)), list(result.values()), align='center')\n",
    "plt.xticks(range(len(result)), list(result.keys()))\n",
    "plt.show()"
   ]
  },
  {
   "cell_type": "markdown",
   "metadata": {
    "id": "28FATm8Qc53F"
   },
   "source": [
    "## **Conclusion**:  The candidate is fit for Backend Web Development role as he/she has experience working with JS, Linux, SQL."
   ]
  },
  {
   "cell_type": "code",
   "execution_count": 33,
   "metadata": {
    "id": "1VG-hlHuYE7S"
   },
   "outputs": [],
   "source": []
  }
 ],
 "metadata": {
  "colab": {
   "provenance": []
  },
  "kernelspec": {
   "display_name": "Python 3 (ipykernel)",
   "language": "python",
   "name": "python3"
  },
  "language_info": {
   "codemirror_mode": {
    "name": "ipython",
    "version": 3
   },
   "file_extension": ".py",
   "mimetype": "text/x-python",
   "name": "python",
   "nbconvert_exporter": "python",
   "pygments_lexer": "ipython3",
   "version": "3.9.5"
  }
 },
 "nbformat": 4,
 "nbformat_minor": 1
}
