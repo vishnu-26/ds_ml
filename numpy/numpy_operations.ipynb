{
 "cells": [
  {
   "cell_type": "code",
   "execution_count": 3,
   "id": "469c9288",
   "metadata": {},
   "outputs": [
    {
     "data": {
      "text/plain": [
       "array([ 0,  1,  2,  3,  4,  5,  6,  7,  8,  9, 10])"
      ]
     },
     "execution_count": 3,
     "metadata": {},
     "output_type": "execute_result"
    }
   ],
   "source": [
    "import numpy as np\n",
    "arr = np.arange(0,11)\n",
    "arr"
   ]
  },
  {
   "cell_type": "code",
   "execution_count": 7,
   "id": "599df5f7",
   "metadata": {},
   "outputs": [
    {
     "data": {
      "text/plain": [
       "array([ 0,  2,  4,  6,  8, 10, 12, 14, 16, 18, 20])"
      ]
     },
     "execution_count": 7,
     "metadata": {},
     "output_type": "execute_result"
    }
   ],
   "source": [
    "arr + arr      #Also works for - , * , /"
   ]
  },
  {
   "cell_type": "code",
   "execution_count": 8,
   "id": "b5b22c55",
   "metadata": {},
   "outputs": [
    {
     "name": "stderr",
     "output_type": "stream",
     "text": [
      "/tmp/ipykernel_82417/1862401812.py:1: RuntimeWarning: invalid value encountered in true_divide\n",
      "  arr/arr\n"
     ]
    },
    {
     "data": {
      "text/plain": [
       "array([nan,  1.,  1.,  1.,  1.,  1.,  1.,  1.,  1.,  1.,  1.])"
      ]
     },
     "execution_count": 8,
     "metadata": {},
     "output_type": "execute_result"
    }
   ],
   "source": [
    "arr/arr"
   ]
  },
  {
   "cell_type": "code",
   "execution_count": 5,
   "id": "cfa99fd0",
   "metadata": {},
   "outputs": [
    {
     "data": {
      "text/plain": [
       "array([  0,  10,  20,  30,  40,  50,  60,  70,  80,  90, 100])"
      ]
     },
     "execution_count": 5,
     "metadata": {},
     "output_type": "execute_result"
    }
   ],
   "source": [
    "arr*10       #Also works for - , + , /"
   ]
  },
  {
   "cell_type": "code",
   "execution_count": 6,
   "id": "fdd28372",
   "metadata": {},
   "outputs": [
    {
     "name": "stderr",
     "output_type": "stream",
     "text": [
      "/tmp/ipykernel_82417/4291252909.py:1: RuntimeWarning: divide by zero encountered in true_divide\n",
      "  arr/0\n",
      "/tmp/ipykernel_82417/4291252909.py:1: RuntimeWarning: invalid value encountered in true_divide\n",
      "  arr/0\n"
     ]
    },
    {
     "data": {
      "text/plain": [
       "array([nan, inf, inf, inf, inf, inf, inf, inf, inf, inf, inf])"
      ]
     },
     "execution_count": 6,
     "metadata": {},
     "output_type": "execute_result"
    }
   ],
   "source": [
    "arr/0"
   ]
  },
  {
   "cell_type": "code",
   "execution_count": 10,
   "id": "2636df3c",
   "metadata": {},
   "outputs": [
    {
     "name": "stderr",
     "output_type": "stream",
     "text": [
      "/tmp/ipykernel_82417/3243852102.py:1: RuntimeWarning: divide by zero encountered in true_divide\n",
      "  6/arr\n"
     ]
    },
    {
     "data": {
      "text/plain": [
       "array([       inf, 6.        , 3.        , 2.        , 1.5       ,\n",
       "       1.2       , 1.        , 0.85714286, 0.75      , 0.66666667,\n",
       "       0.6       ])"
      ]
     },
     "execution_count": 10,
     "metadata": {},
     "output_type": "execute_result"
    }
   ],
   "source": [
    "6/arr"
   ]
  },
  {
   "cell_type": "markdown",
   "id": "918adb62",
   "metadata": {},
   "source": [
    "## Exponents"
   ]
  },
  {
   "cell_type": "code",
   "execution_count": 11,
   "id": "4e1a7fb7",
   "metadata": {},
   "outputs": [
    {
     "data": {
      "text/plain": [
       "array([  0,   1,   4,   9,  16,  25,  36,  49,  64,  81, 100])"
      ]
     },
     "execution_count": 11,
     "metadata": {},
     "output_type": "execute_result"
    }
   ],
   "source": [
    "arr**2"
   ]
  },
  {
   "cell_type": "markdown",
   "id": "2772dfd9",
   "metadata": {},
   "source": [
    "## Other operations"
   ]
  },
  {
   "cell_type": "code",
   "execution_count": 12,
   "id": "b7c617c0",
   "metadata": {},
   "outputs": [
    {
     "data": {
      "text/plain": [
       "array([0.        , 1.        , 1.41421356, 1.73205081, 2.        ,\n",
       "       2.23606798, 2.44948974, 2.64575131, 2.82842712, 3.        ,\n",
       "       3.16227766])"
      ]
     },
     "execution_count": 12,
     "metadata": {},
     "output_type": "execute_result"
    }
   ],
   "source": [
    "np.sqrt(arr)"
   ]
  },
  {
   "cell_type": "code",
   "execution_count": 13,
   "id": "8423ad1a",
   "metadata": {},
   "outputs": [
    {
     "name": "stderr",
     "output_type": "stream",
     "text": [
      "/tmp/ipykernel_82417/3120950136.py:1: RuntimeWarning: divide by zero encountered in log\n",
      "  np.log(arr)\n"
     ]
    },
    {
     "data": {
      "text/plain": [
       "array([      -inf, 0.        , 0.69314718, 1.09861229, 1.38629436,\n",
       "       1.60943791, 1.79175947, 1.94591015, 2.07944154, 2.19722458,\n",
       "       2.30258509])"
      ]
     },
     "execution_count": 13,
     "metadata": {},
     "output_type": "execute_result"
    }
   ],
   "source": [
    "np.log(arr)"
   ]
  },
  {
   "cell_type": "code",
   "execution_count": 14,
   "id": "25717bbf",
   "metadata": {},
   "outputs": [
    {
     "data": {
      "text/plain": [
       "array([ 0.        ,  0.84147098,  0.90929743,  0.14112001, -0.7568025 ,\n",
       "       -0.95892427, -0.2794155 ,  0.6569866 ,  0.98935825,  0.41211849,\n",
       "       -0.54402111])"
      ]
     },
     "execution_count": 14,
     "metadata": {},
     "output_type": "execute_result"
    }
   ],
   "source": [
    "np.sin(arr)"
   ]
  },
  {
   "cell_type": "code",
   "execution_count": null,
   "id": "7deb0462",
   "metadata": {},
   "outputs": [],
   "source": []
  }
 ],
 "metadata": {
  "kernelspec": {
   "display_name": "Python 3 (ipykernel)",
   "language": "python",
   "name": "python3"
  },
  "language_info": {
   "codemirror_mode": {
    "name": "ipython",
    "version": 3
   },
   "file_extension": ".py",
   "mimetype": "text/x-python",
   "name": "python",
   "nbconvert_exporter": "python",
   "pygments_lexer": "ipython3",
   "version": "3.8.10"
  }
 },
 "nbformat": 4,
 "nbformat_minor": 5
}
